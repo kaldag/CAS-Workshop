{
 "cells": [
  {
   "cell_type": "code",
   "execution_count": 1,
   "id": "d5a03d9b-170d-4896-8120-6de972dd314e",
   "metadata": {},
   "outputs": [
    {
     "name": "stdout",
     "output_type": "stream",
     "text": [
      "Intel MKL WARNING: Support of Intel(R) Streaming SIMD Extensions 4.2 (Intel(R) SSE4.2) enabled only processors has been deprecated. Intel oneAPI Math Kernel Library 2025.0 will require Intel(R) Advanced Vector Extensions (Intel(R) AVX) instructions.\n",
      "Intel MKL WARNING: Support of Intel(R) Streaming SIMD Extensions 4.2 (Intel(R) SSE4.2) enabled only processors has been deprecated. Intel oneAPI Math Kernel Library 2025.0 will require Intel(R) Advanced Vector Extensions (Intel(R) AVX) instructions.\n",
      "1.1.1\n"
     ]
    }
   ],
   "source": [
    "import qiskit\n",
    "print(qiskit.__version__)"
   ]
  },
  {
   "cell_type": "markdown",
   "id": "b66f8cae-e165-4aa9-ad58-407f1dbc1cac",
   "metadata": {},
   "source": [
    "# Finding minimum/maximum eigenvalues using VQE"
   ]
  },
  {
   "cell_type": "markdown",
   "id": "04592b18-6719-4daf-b7c2-2fd8fb3c8622",
   "metadata": {},
   "source": [
    "Many problems in Mathematics, Physics and Chemistry require the estimation of the minimum or the maximum eigenvalues of a system. Classically, for very large systems, variational forms have been in use to derive them. Let us say we have been given an operator (matrix) $L$, whose minimum eigenvalue we are interested in. \n",
    "\n",
    "We start off with an initial parametrized good guess (ansatz) $\\left| \\psi (\\theta) \\right\\rangle$. The expectation of this operator with respect to this ansatz $E = \\left\\langle L \\right\\rangle = \\left\\langle \\psi (\\theta)\\right| L \\left| \\psi (\\theta) \\right\\rangle$ is then calculated. An optimizer is then used to find the optimal parameters that minimizes (maximizes) this expectation value. The variational form ensures that \n",
    "\n",
    "$$ \\lambda _{min} \\leq \\left\\langle \\psi (\\theta)\\right| L \\left| \\psi (\\theta) \\right\\rangle.$$\n",
    "\n",
    "A perfect guess would be when the ansatz is the minimum eigenvector. That would give us $E = \\lambda _{min}$, the minimum eigenvalue. "
   ]
  },
  {
   "cell_type": "markdown",
   "id": "76461b22-00b6-4f62-bb18-18300fbe5096",
   "metadata": {},
   "source": [
    "For implementation in a Quantum computer the operator is expressed as a sum of Pauli operators, $Z, X, Y$ and $I$. Let us say, we want to find the minimum eigenvalue of the matrix $$ A = \\left[\\begin{array}{cc} 2 & 3 \\\\ 3 & 6 \\\\  \n",
    "\\end{array}\\right]$$. \n",
    "\n",
    "Now $A$ could be written as a sum of Pauli operators as follows.\n",
    "$$A = -2Z + 4I + 3X$$\n",
    "\n",
    "The expectation of $A$, $\\left\\langle A \\right\\rangle$, can be expressed as \n",
    "$$ \\left\\langle A \\right\\rangle = -2\\left\\langle Z \\right\\rangle + 4 + 3 \\left\\langle X \\right\\rangle $$\n"
   ]
  },
  {
   "cell_type": "markdown",
   "id": "b6915522-09a9-44f7-813a-0aced5bbb043",
   "metadata": {},
   "source": [
    "This problem can be solved using a single qubit system, as our matrix is of size 2×2. We will create our ansatz by applying the 𝑈 gate to a |0⟩. The 𝑈 gate requires 3 parameters. More on 𝑈 gate can be found in the following link.\n",
    "\n",
    "https://qiskit.org/textbook/ch-states/single-qubit-gates.html#generalU\n",
    "\n",
    "Let us first find the eigenvalues of the matrix 𝐴 classically. "
   ]
  },
  {
   "cell_type": "code",
   "execution_count": 2,
   "id": "159344c5-48ff-4060-9ef4-40412076b8f2",
   "metadata": {},
   "outputs": [
    {
     "name": "stdout",
     "output_type": "stream",
     "text": [
      "[0.39444872 7.60555128]\n"
     ]
    }
   ],
   "source": [
    "import numpy as np\n",
    "\n",
    "AA = np.array([[2, 3],[3, 6]])\n",
    "print(np.linalg.eig(AA)[0])"
   ]
  },
  {
   "cell_type": "markdown",
   "id": "c138e96d-8fe5-4c89-a670-68bbd890e4fc",
   "metadata": {},
   "source": [
    "Let us first create our ansatz using the $U$ gate and some initial parameters."
   ]
  },
  {
   "cell_type": "code",
   "execution_count": 19,
   "id": "d3968d5b-9f02-4863-8046-0b53fd229135",
   "metadata": {},
   "outputs": [],
   "source": [
    "from qiskit import QuantumCircuit # Aer, execute,IBMQ\n",
    "from qiskit.visualization import plot_histogram"
   ]
  },
  {
   "cell_type": "code",
   "execution_count": 20,
   "id": "110f2367-851e-4274-835f-469197d153dd",
   "metadata": {},
   "outputs": [],
   "source": [
    "def var_circuit(params):\n",
    "    var_circ = QuantumCircuit(1)\n",
    "    var_circ.u(params[0], params[1], params[2],0)\n",
    "    return var_circ"
   ]
  },
  {
   "cell_type": "code",
   "execution_count": 22,
   "id": "1a513fae-bcc6-4d2b-976c-5f66d45efbd5",
   "metadata": {},
   "outputs": [
    {
     "data": {
      "image/png": "[encoded data removed]",
      "text/plain": [
       "<Figure size 269.064x117.056 with 1 Axes>"
      ]
     },
     "execution_count": 22,
     "metadata": {},
     "output_type": "execute_result"
    }
   ],
   "source": [
    "params = np.random.rand(3)\n",
    "pri_ckt = var_circuit(params)\n",
    "pri_ckt.draw('mpl')"
   ]
  },
  {
   "cell_type": "markdown",
   "id": "cce81426-316a-4bb7-9f16-5eaaad58ea41",
   "metadata": {},
   "source": [
    "## Estimating $\\left\\langle Z \\right\\rangle$"
   ]
  },
  {
   "cell_type": "markdown",
   "id": "8d8edc07-be60-4d6a-a014-41d00f507fbc",
   "metadata": {},
   "source": [
    "The result of this measurement can either be $\\left| 0 \\right\\rangle$ or $\\left| 1 \\right\\rangle$. Since both are eigenvectors of $Z$, with eigenvalues $1$ and $-1$, $\\left\\langle Z \\right\\rangle$ will be equal to the number of times we have $1$ minus the mumber of times we have $-1$. \n",
    "For example, let us say, $\\left| \\psi \\right\\rangle = c_1 \\left| 0 \\right\\rangle + c_2 \\left| 1 \\right\\rangle.$ Then,\n",
    "\n",
    "$$\\left\\langle \\psi \\right| Z \\left| \\psi \\right\\rangle = c_1 ^2 - c_2 ^2 $$\n",
    "\n",
    "\n",
    "$c_1^2$ is the probability of occurence of $\\left| 0 \\right\\rangle$ and $c_2^2$ is the probability of occurence of $\\left| 1 \\right\\rangle$. This is calculated as given below."
   ]
  },
  {
   "cell_type": "code",
   "execution_count": 66,
   "id": "d8cf078a-09d7-4b10-80cc-bc5ec43fa624",
   "metadata": {},
   "outputs": [],
   "source": [
    "# from qiskit_aer.primitives import Sampler\n",
    "from qiskit_ibm_runtime import SamplerV2 as Sampler\n",
    "from qiskit_ibm_runtime.fake_provider import FakeSherbrooke, FakeManilaV2, FakeMumbaiV2\n",
    "\n",
    "backend = FakeMumbaiV2()\n",
    "\n",
    "# sampler = Sampler(backend_options={\"method\": \"matrix_product_state\", \"shots\":10000})\n",
    "sampler = Sampler(backend)"
   ]
  },
  {
   "cell_type": "code",
   "execution_count": null,
   "id": "fe50b124-6ecb-4fab-9917-121084530081",
   "metadata": {},
   "outputs": [],
   "source": [
    "from qiskit.transpiler.preset_passmanagers import generate_preset_pass_manager\n",
    "## for mps simulator\n",
    "Zmeas = pri_ckt.copy()\n",
    "Zmeas.measure_all()\n",
    "Zmeas.draw('mpl')\n",
    "\n",
    "## for fakebackend \n",
    "pm = generate_preset_pass_manager(optimization_level=1, backend=backend)\n",
    "Zmeas_tr = pm.run(Zmeas)"
   ]
  },
  {
   "cell_type": "code",
   "execution_count": 40,
   "id": "bdb4536c-fe1e-4a1d-a9df-b63610d6678b",
   "metadata": {},
   "outputs": [
    {
     "name": "stdout",
     "output_type": "stream",
     "text": [
      "{'0': 891, '1': 133}\n",
      "891 133\n"
     ]
    },
    {
     "data": {
      "image/png": "[encoded data removed]",
      "text/plain": [
       "<Figure size 640x480 with 1 Axes>"
      ]
     },
     "execution_count": 40,
     "metadata": {},
     "output_type": "execute_result"
    }
   ],
   "source": [
    "result = sampler.run([Zmeas_tr]).result()\n",
    "\n",
    "## mps simulator \n",
    "# counts = result.quasi_dists[0]\n",
    "\n",
    "## fake backend\n",
    "counts = result[0].data.meas.get_counts()\n",
    "\n",
    "print(counts)\n",
    "# print(counts[0], counts[1]) ## mps simulator\n",
    "print(counts['0'], counts['1']) ## fake backend\n",
    "\n",
    "## mps simulator\n",
    "# zz = counts[0] - counts[1]\n",
    "\n",
    "## fake backend\n",
    "total_counts = counts['0'] + counts['1']\n",
    "zz = (counts['0'] - counts['1'])/total_counts\n",
    "\n",
    "plot_histogram(counts) "
   ]
  },
  {
   "cell_type": "markdown",
   "id": "db40e1a1-736f-48d3-a97f-4ea7e720e8f7",
   "metadata": {},
   "source": [
    "## Estimating $\\left\\langle X \\right\\rangle$"
   ]
  },
  {
   "cell_type": "markdown",
   "id": "cabe1de1-307c-4a34-8082-06b4903d09d3",
   "metadata": {},
   "source": [
    "In a Quantum computer measurements are always performed in the $Z$ computational basis. $\\left\\langle X \\right\\rangle$ can be estimated by first expressing $X$ in the form $HZH$ using the Hadamard gates $H$. That would give us the following.\n",
    "\n",
    "$$ \\left\\langle\\psi\\right| X\\left| \\psi\\right\\rangle = \\left\\langle \\psi\\right| HZH \\left| \\psi\\right\\rangle$$\n",
    "$$  = \\left\\langle \\psi H \\right| Z \\left| H\\psi\\right\\rangle$$\n",
    "\n",
    "This is equivalent to finding $\\left\\langle Z \\right\\rangle$ after operating an extra Hadamard gate on the ansatz. This is as given below. "
   ]
  },
  {
   "cell_type": "code",
   "execution_count": 43,
   "id": "3a585b42-c25a-4b97-954d-9c381e11f7d8",
   "metadata": {},
   "outputs": [],
   "source": [
    "Xmeas = pri_ckt.copy()\n",
    "Xmeas.h(0)\n",
    "Xmeas.measure_all()\n",
    "Xmeas.draw('mpl')\n",
    "\n",
    "## fake backend\n",
    "pm = generate_preset_pass_manager(optimization_level=1, backend=backend)\n",
    "Xmeas_tr = pm.run(Xmeas)"
   ]
  },
  {
   "cell_type": "code",
   "execution_count": 46,
   "id": "5d556168-9ab2-45ca-9112-7dcf5e864c2c",
   "metadata": {},
   "outputs": [
    {
     "name": "stdout",
     "output_type": "stream",
     "text": [
      "824 200\n"
     ]
    },
    {
     "data": {
      "image/png": "[encoded data removed]",
      "text/plain": [
       "<Figure size 640x480 with 1 Axes>"
      ]
     },
     "execution_count": 46,
     "metadata": {},
     "output_type": "execute_result"
    }
   ],
   "source": [
    "## mps simulator \n",
    "# result = sampler.run(Xmeas).result()\n",
    "# counts = result.quasi_dists[0]\n",
    "\n",
    "# print(counts[0], counts[1])\n",
    "# xx = counts[0] - counts[1]\n",
    "\n",
    "# print(xx)\n",
    "\n",
    "## fake backend\n",
    "result = sampler.run([Xmeas_tr]).result()\n",
    "counts = result[0].data.meas.get_counts()\n",
    "print(counts['0'], counts['1']) \n",
    "total_counts = counts['0'] + counts['1']\n",
    "xx = (counts['0'] - counts['1'])/total_counts\n",
    "\n",
    "plot_histogram(counts) "
   ]
  },
  {
   "cell_type": "markdown",
   "id": "a9b8afc2-a478-4e49-b3f8-ce77d5f9b48a",
   "metadata": {},
   "source": [
    "## Overall expectation value of the operator"
   ]
  },
  {
   "cell_type": "code",
   "execution_count": 47,
   "id": "8b02944e-ea8e-46ef-95ea-8f0dc2597a74",
   "metadata": {},
   "outputs": [
    {
     "name": "stdout",
     "output_type": "stream",
     "text": [
      "4.765625\n"
     ]
    }
   ],
   "source": [
    "eig_value = -2*zz + 4 + 3*xx\n",
    "print(eig_value)"
   ]
  },
  {
   "cell_type": "markdown",
   "id": "f2545b1c-4728-4841-8c41-8de4d42ecbf0",
   "metadata": {},
   "source": [
    "We started off with a random set of paramaters and reached a value of $4.46$ using 100 shots for calculating the expectation. This is not close to the expected lowest eigenvalue of $0.39$. We will have to further optimize the parameters using an optimizer, which will form the classical part of the system. "
   ]
  },
  {
   "cell_type": "markdown",
   "id": "54fbedde-70cd-4669-831d-18985f40e191",
   "metadata": {},
   "source": [
    "### Overall expectation function\n",
    "Putting all the expectation value evaluations together under function."
   ]
  },
  {
   "cell_type": "code",
   "execution_count": 67,
   "id": "18e0a449-64d4-4fcc-aaaa-9b33d279a619",
   "metadata": {},
   "outputs": [],
   "source": [
    "## mps simulator\n",
    "# def expectation_function(params):\n",
    "#     var_circ = QuantumCircuit(1)\n",
    "#     var_circ.u(params[0], params[1], params[2],0)\n",
    "        \n",
    "#     #### Z measurement #####\n",
    "#     Zmeas = var_circ.copy()\n",
    "#     Zmeas.measure_all()\n",
    "#     result = sampler.run(Zmeas).result()\n",
    "#     counts = result.quasi_dists[0]\n",
    "    \n",
    "#     zz = counts[0] - counts[1]\n",
    "\n",
    "#     #### X measurement #####\n",
    "#     Xmeas = var_circ.copy()\n",
    "#     Xmeas.h(0)\n",
    "#     Xmeas.measure_all()\n",
    "#     result = sampler.run(Xmeas).result()\n",
    "#     counts = result.quasi_dists[0]\n",
    "    \n",
    "#     xx = counts[0] - counts[1]\n",
    "    \n",
    "#     cost = -2*zz + 3*xx + 4\n",
    "#     print(cost, params)\n",
    "#     return cost\n",
    "\n",
    "## fake backend\n",
    "def expectation_function(params):\n",
    "    pm = generate_preset_pass_manager(optimization_level=1, backend=backend)\n",
    "    \n",
    "    var_circ = QuantumCircuit(1)\n",
    "    var_circ.u(params[0], params[1], params[2],0)\n",
    "        \n",
    "    #### Z measurement #####\n",
    "    Zmeas = var_circ.copy()\n",
    "    Zmeas.measure_all()\n",
    "    \n",
    "    Zmeas_tr = pm.run(Zmeas)\n",
    "    result = sampler.run([Zmeas_tr]).result()\n",
    "    counts = result[0].data.meas.get_counts()\n",
    "    total_counts = counts['0'] + counts['1']\n",
    "    zz = (counts['0'] - counts['1'])/total_counts\n",
    "    \n",
    "    #### X measurement #####\n",
    "    Xmeas = var_circ.copy()\n",
    "    Xmeas.h(0)\n",
    "    Xmeas.measure_all()\n",
    "    \n",
    "    Xmeas_tr = pm.run(Xmeas)\n",
    "    result = sampler.run([Xmeas_tr]).result()\n",
    "    counts = result[0].data.meas.get_counts()\n",
    "    total_counts = counts['0'] + counts['1']\n",
    "    xx = (counts['0'] - counts['1'])/total_counts\n",
    "    \n",
    "    cost = -2*zz + 3*xx + 4\n",
    "    print(cost, params)\n",
    "    return cost"
   ]
  },
  {
   "cell_type": "markdown",
   "id": "d1a762aa-112f-4e96-b362-7730b6dc17a7",
   "metadata": {},
   "source": [
    "### Classical optimizer "
   ]
  },
  {
   "cell_type": "code",
   "execution_count": 70,
   "id": "6c1ff07f-4ad9-4669-83a0-2592823b3f77",
   "metadata": {},
   "outputs": [
    {
     "name": "stdout",
     "output_type": "stream",
     "text": [
      "3.26953125 [0.51979145 0.74473313 0.25764067]\n",
      "6.033203125 [1.51979145 0.74473313 0.25764067]\n",
      "2.166015625 [0.51979145 1.74473313 0.25764067]\n",
      "2.072265625 [0.51979145 1.74473313 1.25764067]\n",
      "2.87890625 [-0.40845087  2.11537405  1.28912875]\n",
      "1.87890625 [0.90196417 2.06597941 1.28493239]\n",
      "2.76953125 [1.36313547 1.88154438 1.34241939]\n",
      "1.734375 [0.87527    2.07663822 1.53327452]\n",
      "1.099609375 [0.62174312 2.50028237 1.6123299 ]\n",
      "0.962890625 [0.44120461 2.92874273 1.79625261]\n",
      "1.0234375 [0.55671971 2.80307944 2.26621538]\n",
      "1.548828125 [0.21648393 2.82253332 1.8230888 ]\n",
      "0.583984375 [0.85896982 3.19724072 1.7381058 ]\n",
      "0.828125 [1.1893237  3.56701694 1.67382621]\n",
      "0.603515625 [1.02414676 3.38212883 1.70596601]\n",
      "0.568359375 [0.76691857 3.28121526 1.74809807]\n",
      "0.701171875 [0.69692524 3.27704894 1.50813229]\n",
      "0.720703125 [0.73976887 3.30269346 1.99568963]\n",
      "0.6796875 [0.75334372 3.29195436 1.87189385]\n",
      "0.63671875 [0.72476185 3.23507769 1.74747773]\n",
      "0.7578125 [0.81842287 3.36315311 1.66898741]\n",
      "0.759765625 [0.72398942 3.24043664 1.72808702]\n",
      "0.5390625 [0.79219165 3.26300669 1.75060446]\n",
      "0.625 [0.79600206 3.2662582  1.73580415]\n",
      "0.66796875 [0.79708589 3.26605126 1.78131829]\n",
      "0.611328125 [0.78301948 3.25064576 1.75329134]\n",
      "0.5390625 [0.80839522 3.27429801 1.72638643]\n",
      "0.529296875 [0.78739596 3.25101785 1.74180617]\n",
      "0.66015625 [0.79467094 3.23727577 1.74026659]\n",
      "0.83203125 [0.79144685 3.25384068 1.73575167]\n",
      "0.49609375 [0.77617003 3.24761671 1.75212855]\n",
      "0.578125 [0.78099043 3.24281978 1.75597412]\n",
      "0.54296875 [0.77500393 3.24464265 1.74988044]\n",
      "0.59765625 [0.7739572  3.25494345 1.75369614]\n",
      "0.556640625 [0.77399396 3.2456531  1.74954635]\n",
      "0.66796875 [0.77890245 3.24868045 1.74954763]\n",
      "0.681640625 [0.77594345 3.24669827 1.7538373 ]\n",
      "0.646484375 [0.77503052 3.24920111 1.75205183]\n",
      "0.705078125 [0.77698296 3.24761074 1.75158744]\n",
      "0.56640625 [0.77555544 3.24704861 1.75162534]\n",
      "0.705078125 [0.77610622 3.24745747 1.7525857 ]\n",
      "0.77734375 [0.77595077 3.24803362 1.75199999]\n",
      "0.576171875 [0.77605559 3.24744259 1.7520013 ]\n",
      "0.587890625 [0.77640521 3.24759396 1.75206707]\n",
      "0.6171875 [0.77613184 3.24770642 1.75210636]\n",
      "0.52734375 [0.77613669 3.24761164 1.75216546]\n",
      "0.724609375 [0.77625801 3.24757352 1.75214841]\n",
      "0.615234375 [0.77611982 3.24755993 1.75206332]\n",
      "\n",
      "   Normal return from subroutine COBYLA\n",
      "\n",
      "   NFVALS =   48   F = 6.152344E-01    MAXCV = 0.000000E+00\n",
      "   X = 7.761198E-01   3.247560E+00   1.752063E+00\n"
     ]
    }
   ],
   "source": [
    "from qiskit_algorithms.optimizers import COBYLA\n",
    "import scipy as sp\n",
    "\n",
    "optimizer = COBYLA(maxiter=100, tol=0.0001, disp = True)\n",
    "params = np.random.rand(3)\n",
    "# ret = optimizer.optimize(num_vars=3, objective_function=expectation_function, initial_point=params)\n",
    "ret = optimizer.minimize(expectation_function, params)"
   ]
  },
  {
   "cell_type": "code",
   "execution_count": 71,
   "id": "a2909cc8-8344-4171-ad6b-8353dec36611",
   "metadata": {},
   "outputs": [
    {
     "name": "stdout",
     "output_type": "stream",
     "text": [
      "{   'fun': 0.615234375,\n",
      "    'jac': None,\n",
      "    'nfev': 48,\n",
      "    'nit': None,\n",
      "    'njev': None,\n",
      "    'x': array([0.77611982, 3.24755993, 1.75206332])}\n"
     ]
    }
   ],
   "source": [
    "# The optimal parameters \n",
    "print(ret)\n",
    "# exp = expectation_function(ret[0])\n",
    "# print(exp)"
   ]
  },
  {
   "cell_type": "markdown",
   "id": "6a125bcf-b639-45ae-9bbc-414365497f05",
   "metadata": {},
   "source": [
    "We have reached $0.4$ which is almost equal to the value we wanted. To get the maximum eigenvalue, we will have to just negate the cost function. \n",
    "\n",
    "This methodology can be used to find the minimum eigenvalues of much bigger systems. We will try to find the smallest eigenvalue of the $4\\times4$ operator given by \n",
    "\n",
    "$$ L = 2XX $$\n",
    "\n",
    "Here a $XX = X\\otimes X$. \n",
    "\n",
    "Let us first find out the eigenvalues of the matrix $L$. "
   ]
  },
  {
   "cell_type": "code",
   "execution_count": 17,
   "id": "29f58b45-78b4-413a-964d-850900a38200",
   "metadata": {},
   "outputs": [
    {
     "name": "stdout",
     "output_type": "stream",
     "text": [
      "[ 2. -2.  2. -2.]\n"
     ]
    }
   ],
   "source": [
    "X = np.array([[0, 1],[1, 0]])\n",
    "XX = np.kron(X,X)\n",
    "L = 2*XX\n",
    "print(np.linalg.eig(L)[0])"
   ]
  },
  {
   "cell_type": "markdown",
   "id": "3d53af2b-2bf0-4183-812a-e5cf5ec77d48",
   "metadata": {},
   "source": [
    "Let us first create our ansatz. For creating the ansatz we will use a combination of $R_y$, $R_z$ and $CNOT$ (`CX`) gates as shown below. However, unlike in our previous example, these variational forms have to repeated several times for better results. "
   ]
  },
  {
   "cell_type": "code",
   "execution_count": 18,
   "id": "d90ca51c-c353-4634-b835-5db8b73dbb3b",
   "metadata": {},
   "outputs": [],
   "source": [
    "def var_form(params, depth):\n",
    "    var_circ = QuantumCircuit(2)\n",
    "    var_circ.ry(params[0], 0)\n",
    "    var_circ.rz(params[1], 0)\n",
    "    var_circ.ry(params[0], 1)\n",
    "    var_circ.rz(params[1], 1)\n",
    "        \n",
    "    for jj in range(depth):\n",
    "        var_circ.cx(0, 1)\n",
    "        var_circ.ry(params[0], 0)\n",
    "        var_circ.rz(params[1], 0)\n",
    "        var_circ.ry(params[0], 1)\n",
    "        var_circ.rz(params[1], 1)\n",
    "    \n",
    "    return var_circ       "
   ]
  },
  {
   "cell_type": "code",
   "execution_count": 19,
   "id": "8d6efc21-ad58-400c-9b44-298e2816a9ee",
   "metadata": {},
   "outputs": [
    {
     "data": {
      "image/png": "[encoded data removed]",
      "text/plain": [
       "<Figure size 748.652x144.48 with 1 Axes>"
      ]
     },
     "execution_count": 19,
     "metadata": {},
     "output_type": "execute_result"
    }
   ],
   "source": [
    "params = np.random.rand(2)\n",
    "depth = 3\n",
    "ckt = var_form(params, depth)\n",
    "ckt.draw('mpl')"
   ]
  },
  {
   "cell_type": "markdown",
   "id": "96c28cd8-feb4-41d8-893e-86670b351a80",
   "metadata": {},
   "source": [
    "We write down our expectation function now. Our operator has two $X$ Pauli matrices. We can convert them to the Z form by operating $H$ gates on both the qubits. For finding the expectation of $\\left\\langle ZZ \\right\\rangle$, we must remember the following.\n",
    "\\begin{equation}\n",
    "\\begin{aligned}\n",
    "ZZ\\left| 00 \\right\\rangle &= \\left| 00 \\right\\rangle \\\\\n",
    "ZZ\\left| 01 \\right\\rangle &= -\\left| 01 \\right\\rangle \\\\\n",
    "ZZ\\left| 10 \\right\\rangle &= -\\left| 10 \\right\\rangle \\\\\n",
    "ZZ\\left| 11 \\right\\rangle &= \\left| 11 \\right\\rangle \n",
    "\\end{aligned}\n",
    "\\end{equation}\n",
    "\n",
    "Thus \n",
    "$$\\left\\langle ZZ \\right\\rangle = \\textrm{\\#('00') + \\#('11') - \\#('01') - \\#('10')}$$"
   ]
  },
  {
   "cell_type": "code",
   "execution_count": 20,
   "id": "d8987260-d93a-4d3b-a492-8c64b06b6a4b",
   "metadata": {},
   "outputs": [],
   "source": [
    "def expectation_function2(params, num_shots = 10000):\n",
    "    var_circ = var_form(params, 2)\n",
    "    \n",
    "    #### XX measurement #####\n",
    "    Xmeas = var_circ.copy()\n",
    "    Xmeas.h(0)\n",
    "    Xmeas.h(1)\n",
    "    Xmeas.measure_all()\n",
    "    result = execute(Xmeas, backend = simulator, shots = num_shots).result()\n",
    "    counts = result.get_counts(Xmeas)\n",
    "    \n",
    "    list_bin = ['00','01','10','11']\n",
    "    for jj in list_bin:\n",
    "        if jj not in counts:\n",
    "            counts[jj] = 0\n",
    "    \n",
    "    total_counts = counts['00'] + counts['11'] + counts['10'] + counts['01']\n",
    "    xx = counts['00'] + counts['11'] - counts['10'] - counts['01'] \n",
    "    xx = xx / total_counts\n",
    "    \n",
    "    cost = 2*xx\n",
    "    return cost"
   ]
  },
  {
   "cell_type": "code",
   "execution_count": 23,
   "id": "c85a3204-1f10-4af0-90da-17682d0eabef",
   "metadata": {},
   "outputs": [
    {
     "name": "stdout",
     "output_type": "stream",
     "text": [
      "{   'fun': -1.9996,\n",
      "    'jac': None,\n",
      "    'nfev': 30,\n",
      "    'nit': None,\n",
      "    'njev': None,\n",
      "    'x': array([1.58682113, 1.56658944])}\n"
     ]
    }
   ],
   "source": [
    "optimizer = COBYLA(maxiter=100, tol=0.0001)\n",
    "params = np.random.rand(2)\n",
    "# ret = optimizer.optimize(num_vars=2, objective_function=expectation_function2, initial_point=params)\n",
    "ret = optimizer.minimize(expectation_function2, params)\n",
    "print(ret)\n",
    "# exp = expectation_function2(ret[0])\n",
    "# print(exp)"
   ]
  },
  {
   "cell_type": "markdown",
   "id": "7449b72a-4e15-47fa-a7fe-eeae5147ef0f",
   "metadata": {},
   "source": [
    "We have been able to get the minimum eigenvalue correctly here as well. \n",
    "\n",
    "As an exercise try finding the minimum and maximum eigenvalues of the following operator.\n",
    "\n",
    "$$ L = 2XX + 6IZ $$\n",
    "\n",
    "Use a variational form comprising of $R_y$, $R_z$ and `CX` gates."
   ]
  },
  {
   "cell_type": "markdown",
   "id": "67410960-4322-48d9-b111-48ee048367b9",
   "metadata": {},
   "source": [
    "### Solution to the above problem"
   ]
  },
  {
   "cell_type": "code",
   "execution_count": 24,
   "id": "8994683c-6d8f-404b-aad7-89cefea7dbb7",
   "metadata": {},
   "outputs": [
    {
     "name": "stdout",
     "output_type": "stream",
     "text": [
      "[ 6.32455532 -6.32455532  6.32455532 -6.32455532]\n"
     ]
    }
   ],
   "source": [
    "### Eigenvalues of L #####\n",
    "X = np.array([[0, 1],[1, 0]])\n",
    "Z = np.array([[1, 0],[0, -1]])\n",
    "I = np.array([[1, 0],[0, 1]])\n",
    "\n",
    "L = 2*np.kron(X,X) + 6*np.kron(I,Z)\n",
    "print(np.linalg.eig(L)[0])"
   ]
  },
  {
   "cell_type": "code",
   "execution_count": 25,
   "id": "b180f4a8-53fc-4c64-ab13-64236372800f",
   "metadata": {},
   "outputs": [],
   "source": [
    "def var_form_ryrz(params, depth):\n",
    "    var_circ = QuantumCircuit(2)\n",
    "    var_circ.ry(params[0], 0)\n",
    "    var_circ.rz(params[1], 0)\n",
    "    var_circ.ry(params[2], 1)\n",
    "    var_circ.rz(params[3], 1)    \n",
    "           \n",
    "    for jj in range(depth):\n",
    "        var_circ.cx(0, 1)\n",
    "        var_circ.ry(params[0], 0)\n",
    "        var_circ.rz(params[1], 0)\n",
    "        var_circ.ry(params[2], 1)\n",
    "        var_circ.rz(params[3], 1) \n",
    "            \n",
    "    return var_circ  "
   ]
  },
  {
   "cell_type": "code",
   "execution_count": 26,
   "id": "b0e61668-1620-41cb-8fa2-901a58c944a5",
   "metadata": {},
   "outputs": [],
   "source": [
    "def expectation_function3(params, num_shots = 10000):\n",
    "    var_circ = var_form_ryrz(params, 2)\n",
    "    \n",
    "    #### XX measurement #####\n",
    "    Xmeas = var_circ.copy()\n",
    "    Xmeas.h(0)\n",
    "    Xmeas.h(1)\n",
    "    Xmeas.measure_all()\n",
    "    result = execute(Xmeas, backend = simulator, shots = num_shots).result()\n",
    "    counts = result.get_counts(Xmeas)\n",
    "    \n",
    "    list_bin = ['00','01','10','11']\n",
    "    for jj in list_bin:\n",
    "        if jj not in counts:\n",
    "            counts[jj] = 0\n",
    "            \n",
    "    total_counts = counts['00'] + counts['11'] + counts['10'] + counts['01']\n",
    "    xx = counts['00'] + counts['11'] - counts['10'] - counts['01'] \n",
    "    xx = xx / total_counts\n",
    "    \n",
    "    #### IZ measurement #####\n",
    "    IZmeas = var_circ.copy()\n",
    "    IZmeas.measure_all()\n",
    "    result = execute(IZmeas, backend = simulator, shots = num_shots).result()\n",
    "    counts = result.get_counts(IZmeas)\n",
    "    for jj in list_bin:\n",
    "        if jj not in counts:\n",
    "            counts[jj] = 0\n",
    "    total_counts = counts['00'] + counts['11'] + counts['10'] + counts['01']\n",
    "    iz = counts['00'] - counts['11'] + counts['10'] - counts['01'] \n",
    "    iz = iz / total_counts\n",
    "    \n",
    "    cost = 2*xx + 6*iz\n",
    "    return cost"
   ]
  },
  {
   "cell_type": "code",
   "execution_count": 28,
   "id": "b083fe65-9f4b-4183-8dc1-8d83abf97aef",
   "metadata": {},
   "outputs": [
    {
     "name": "stdout",
     "output_type": "stream",
     "text": [
      "{   'fun': -6.2744,\n",
      "    'jac': None,\n",
      "    'nfev': 48,\n",
      "    'nit': None,\n",
      "    'njev': None,\n",
      "    'x': array([ 1.2359065 , -0.08283206,  0.85872665,  0.09867205])}\n"
     ]
    }
   ],
   "source": [
    "optimizer = COBYLA(maxiter=100, tol=0.0001)\n",
    "params = np.random.rand(4)\n",
    "# ret = optimizer.optimize(num_vars=4, objective_function=expectation_function3, initial_point=params)\n",
    "ret = optimizer.minimize(expectation_function3, params)\n",
    "print(ret)\n",
    "# exp = expectation_function3(ret[0])\n",
    "# print(exp)"
   ]
  },
  {
   "cell_type": "markdown",
   "id": "17dd6b9f-c11f-473a-ae29-2481134d0a11",
   "metadata": {
    "tags": []
   },
   "source": [
    "### Another problem"
   ]
  },
  {
   "cell_type": "markdown",
   "id": "abd2c96f-018b-4a60-8409-4ce362cfff31",
   "metadata": {},
   "source": [
    "$$ L = 2XI + 6IY $$\n",
    "\n",
    "Remember $Y = R_z(\\pi/2)HZHR_z'(\\pi/2)$"
   ]
  },
  {
   "cell_type": "code",
   "execution_count": 79,
   "id": "46b8bc82-80c7-4b9b-8bc4-8fb01d888cac",
   "metadata": {},
   "outputs": [
    {
     "name": "stdout",
     "output_type": "stream",
     "text": [
      "[ 8.  4. -8. -4.]\n"
     ]
    }
   ],
   "source": [
    "### Eigenvalues of L #####\n",
    "X = np.array([[0, 1],[1, 0]])\n",
    "Y = 1j*np.array([[0, -1],[1, 0]])\n",
    "I = np.array([[1, 0],[0, 1]])\n",
    "\n",
    "L = 2*np.kron(I,X) + 6*np.kron(Y,I)\n",
    "print(np.real(np.linalg.eig(L)[0]))"
   ]
  },
  {
   "cell_type": "code",
   "execution_count": 74,
   "id": "c43c441c-9c8c-48d2-8eaf-1fdf4937a15a",
   "metadata": {},
   "outputs": [],
   "source": [
    "def var_form_ryrz(params, depth):\n",
    "    var_circ = QuantumCircuit(2,4)\n",
    "    var_circ.ry(params[0], 0)\n",
    "    var_circ.rz(params[1], 0)\n",
    "    var_circ.ry(params[2], 1)\n",
    "    var_circ.rz(params[3], 1)    \n",
    "           \n",
    "    for jj in range(depth):\n",
    "        var_circ.cx(0, 1)\n",
    "        var_circ.ry(params[0], 0)\n",
    "        var_circ.rz(params[1], 0)\n",
    "        var_circ.ry(params[2], 1)\n",
    "        var_circ.rz(params[3], 1) \n",
    "            \n",
    "    return var_circ  "
   ]
  },
  {
   "cell_type": "code",
   "execution_count": 21,
   "id": "a9e8ddf9-91c6-46c1-b468-a29167215923",
   "metadata": {},
   "outputs": [
    {
     "data": {
      "image/png": "[encoded data removed]",
      "text/plain": [
       "<Figure size 1123.41x284.278 with 1 Axes>"
      ]
     },
     "execution_count": 21,
     "metadata": {},
     "output_type": "execute_result"
    }
   ],
   "source": [
    "params = np.random.rand(4)\n",
    "var_circ = var_form_ryrz(params, 1)\n",
    "var_circ.h(1)\n",
    "var_circ.measure([0,1],[0,1])\n",
    "var_circ.barrier([0,1])\n",
    "var_circ.rz(-np.pi/2,0)\n",
    "var_circ.h(0)  \n",
    "var_circ.measure([0,1],[2,3])\n",
    "var_circ.draw('mpl')"
   ]
  },
  {
   "cell_type": "code",
   "execution_count": 80,
   "id": "4d2e2f9a-4e8b-44e7-a059-6edf2cb421a6",
   "metadata": {},
   "outputs": [],
   "source": [
    "from qiskit.result import marginal_counts\n",
    "def expectation_function4(params, num_shots = 10000):\n",
    "    var_circ = var_form_ryrz(params, 1)\n",
    "    \n",
    "    #### XI measurement #####\n",
    "    XI_IY_meas = var_circ.copy()\n",
    "    XI_IY_meas.h(0)\n",
    "    XI_IY_meas.measure([0,1],[0,1])\n",
    "    XI_IY_meas.barrier([0,1])\n",
    "    \n",
    "    #### IY measurement #####\n",
    "    XI_IY_meas.rz(-np.pi/2,1)\n",
    "    XI_IY_meas.h(1)  \n",
    "    XI_IY_meas.measure([0,1],[2,3])\n",
    "    \n",
    "    job = execute(XI_IY_meas, backend = simulator, shots = num_shots)\n",
    "    counts1 = marginal_counts(job.result(), indices=[0,1]).get_counts()\n",
    "    counts2 = marginal_counts(job.result(), indices=[2,3]).get_counts()\n",
    "        \n",
    "    list_bin = ['00','01','10','11']\n",
    "    for jj in list_bin:\n",
    "        if jj not in counts1:\n",
    "            counts1[jj] = 0\n",
    "            \n",
    "    total_counts = counts1['00'] + counts1['11'] + counts1['10'] + counts1['01']\n",
    "    xi = counts1['00'] - counts1['11'] + counts1['10'] - counts1['01'] \n",
    "    xi = xi / total_counts\n",
    "    \n",
    "#      ## IY measurement #####\n",
    "#     IYmeas = var_circ.copy()\n",
    "#     IYmeas.rz(np.pi/2,1)\n",
    "#     IYmeas.h(1)\n",
    "#     IYmeas.measure_all()\n",
    "#     result = execute(IYmeas, backend = simulator, shots = num_shots).result()\n",
    "#     counts = result.get_counts(XImeas)\n",
    "    \n",
    "    for jj in list_bin:\n",
    "        if jj not in counts2:\n",
    "            counts2[jj] = 0\n",
    "\n",
    "    total_counts = counts2['00'] + counts2['11'] + counts2['10'] + counts2['01']\n",
    "    iy = counts2['00'] - counts2['11'] - counts2['10'] + counts2['01'] \n",
    "    iy = iy / total_counts   \n",
    "    \n",
    "\n",
    "    cost = 2*xi + 6*iy\n",
    "    return cost"
   ]
  },
  {
   "cell_type": "code",
   "execution_count": 81,
   "id": "81795d36-3481-4774-9baf-6f43869e468f",
   "metadata": {},
   "outputs": [
    {
     "ename": "NameError",
     "evalue": "name 'execute' is not defined",
     "output_type": "error",
     "traceback": [
      "\u001b[0;31m---------------------------------------------------------------------------\u001b[0m",
      "\u001b[0;31mNameError\u001b[0m                                 Traceback (most recent call last)",
      "Cell \u001b[0;32mIn[81], line 4\u001b[0m\n\u001b[1;32m      2\u001b[0m params \u001b[38;5;241m=\u001b[39m np\u001b[38;5;241m.\u001b[39mrandom\u001b[38;5;241m.\u001b[39mrand(\u001b[38;5;241m4\u001b[39m)\n\u001b[1;32m      3\u001b[0m \u001b[38;5;66;03m# ret = optimizer.optimize(num_vars=4, objective_function=expectation_function4, initial_point=params)\u001b[39;00m\n\u001b[0;32m----> 4\u001b[0m ret \u001b[38;5;241m=\u001b[39m optimizer\u001b[38;5;241m.\u001b[39mminimize(expectation_function4, params)\n\u001b[1;32m      5\u001b[0m \u001b[38;5;28mprint\u001b[39m(ret)\n\u001b[1;32m      6\u001b[0m exp \u001b[38;5;241m=\u001b[39m expectation_function4(ret\u001b[38;5;241m.\u001b[39mx)\n",
      "File \u001b[0;32m~/opt/anaconda3/envs/qskt-1.0/lib/python3.12/site-packages/qiskit_algorithms/optimizers/scipy_optimizer.py:148\u001b[0m, in \u001b[0;36mSciPyOptimizer.minimize\u001b[0;34m(self, fun, x0, jac, bounds)\u001b[0m\n\u001b[1;32m    145\u001b[0m     swapped_deprecated_args \u001b[38;5;241m=\u001b[39m \u001b[38;5;28;01mTrue\u001b[39;00m\n\u001b[1;32m    146\u001b[0m     \u001b[38;5;28mself\u001b[39m\u001b[38;5;241m.\u001b[39m_options[\u001b[38;5;124m\"\u001b[39m\u001b[38;5;124mmaxfun\u001b[39m\u001b[38;5;124m\"\u001b[39m] \u001b[38;5;241m=\u001b[39m \u001b[38;5;28mself\u001b[39m\u001b[38;5;241m.\u001b[39m_options\u001b[38;5;241m.\u001b[39mpop(\u001b[38;5;124m\"\u001b[39m\u001b[38;5;124mmaxiter\u001b[39m\u001b[38;5;124m\"\u001b[39m)\n\u001b[0;32m--> 148\u001b[0m raw_result \u001b[38;5;241m=\u001b[39m minimize(\n\u001b[1;32m    149\u001b[0m     fun\u001b[38;5;241m=\u001b[39mfun,\n\u001b[1;32m    150\u001b[0m     x0\u001b[38;5;241m=\u001b[39mx0,\n\u001b[1;32m    151\u001b[0m     method\u001b[38;5;241m=\u001b[39m\u001b[38;5;28mself\u001b[39m\u001b[38;5;241m.\u001b[39m_method,\n\u001b[1;32m    152\u001b[0m     jac\u001b[38;5;241m=\u001b[39mjac,\n\u001b[1;32m    153\u001b[0m     bounds\u001b[38;5;241m=\u001b[39mbounds,\n\u001b[1;32m    154\u001b[0m     options\u001b[38;5;241m=\u001b[39m\u001b[38;5;28mself\u001b[39m\u001b[38;5;241m.\u001b[39m_options,\n\u001b[1;32m    155\u001b[0m     \u001b[38;5;241m*\u001b[39m\u001b[38;5;241m*\u001b[39m\u001b[38;5;28mself\u001b[39m\u001b[38;5;241m.\u001b[39m_kwargs,\n\u001b[1;32m    156\u001b[0m )\n\u001b[1;32m    157\u001b[0m \u001b[38;5;28;01mif\u001b[39;00m swapped_deprecated_args:\n\u001b[1;32m    158\u001b[0m     \u001b[38;5;28mself\u001b[39m\u001b[38;5;241m.\u001b[39m_options[\u001b[38;5;124m\"\u001b[39m\u001b[38;5;124mmaxiter\u001b[39m\u001b[38;5;124m\"\u001b[39m] \u001b[38;5;241m=\u001b[39m \u001b[38;5;28mself\u001b[39m\u001b[38;5;241m.\u001b[39m_options\u001b[38;5;241m.\u001b[39mpop(\u001b[38;5;124m\"\u001b[39m\u001b[38;5;124mmaxfun\u001b[39m\u001b[38;5;124m\"\u001b[39m)\n",
      "File \u001b[0;32m~/opt/anaconda3/envs/qskt-1.0/lib/python3.12/site-packages/scipy/optimize/_minimize.py:719\u001b[0m, in \u001b[0;36mminimize\u001b[0;34m(fun, x0, args, method, jac, hess, hessp, bounds, constraints, tol, callback, options)\u001b[0m\n\u001b[1;32m    716\u001b[0m     res \u001b[38;5;241m=\u001b[39m _minimize_tnc(fun, x0, args, jac, bounds, callback\u001b[38;5;241m=\u001b[39mcallback,\n\u001b[1;32m    717\u001b[0m                         \u001b[38;5;241m*\u001b[39m\u001b[38;5;241m*\u001b[39moptions)\n\u001b[1;32m    718\u001b[0m \u001b[38;5;28;01melif\u001b[39;00m meth \u001b[38;5;241m==\u001b[39m \u001b[38;5;124m'\u001b[39m\u001b[38;5;124mcobyla\u001b[39m\u001b[38;5;124m'\u001b[39m:\n\u001b[0;32m--> 719\u001b[0m     res \u001b[38;5;241m=\u001b[39m _minimize_cobyla(fun, x0, args, constraints, callback\u001b[38;5;241m=\u001b[39mcallback,\n\u001b[1;32m    720\u001b[0m                            bounds\u001b[38;5;241m=\u001b[39mbounds, \u001b[38;5;241m*\u001b[39m\u001b[38;5;241m*\u001b[39moptions)\n\u001b[1;32m    721\u001b[0m \u001b[38;5;28;01melif\u001b[39;00m meth \u001b[38;5;241m==\u001b[39m \u001b[38;5;124m'\u001b[39m\u001b[38;5;124mslsqp\u001b[39m\u001b[38;5;124m'\u001b[39m:\n\u001b[1;32m    722\u001b[0m     res \u001b[38;5;241m=\u001b[39m _minimize_slsqp(fun, x0, args, jac, bounds,\n\u001b[1;32m    723\u001b[0m                           constraints, callback\u001b[38;5;241m=\u001b[39mcallback, \u001b[38;5;241m*\u001b[39m\u001b[38;5;241m*\u001b[39moptions)\n",
      "File \u001b[0;32m~/opt/anaconda3/envs/qskt-1.0/lib/python3.12/site-packages/scipy/optimize/_cobyla_py.py:35\u001b[0m, in \u001b[0;36msynchronized.<locals>.wrapper\u001b[0;34m(*args, **kwargs)\u001b[0m\n\u001b[1;32m     32\u001b[0m \u001b[38;5;129m@functools\u001b[39m\u001b[38;5;241m.\u001b[39mwraps(func)\n\u001b[1;32m     33\u001b[0m \u001b[38;5;28;01mdef\u001b[39;00m \u001b[38;5;21mwrapper\u001b[39m(\u001b[38;5;241m*\u001b[39margs, \u001b[38;5;241m*\u001b[39m\u001b[38;5;241m*\u001b[39mkwargs):\n\u001b[1;32m     34\u001b[0m     \u001b[38;5;28;01mwith\u001b[39;00m _module_lock:\n\u001b[0;32m---> 35\u001b[0m         \u001b[38;5;28;01mreturn\u001b[39;00m func(\u001b[38;5;241m*\u001b[39margs, \u001b[38;5;241m*\u001b[39m\u001b[38;5;241m*\u001b[39mkwargs)\n",
      "File \u001b[0;32m~/opt/anaconda3/envs/qskt-1.0/lib/python3.12/site-packages/scipy/optimize/_cobyla_py.py:278\u001b[0m, in \u001b[0;36m_minimize_cobyla\u001b[0;34m(fun, x0, args, constraints, rhobeg, tol, maxiter, disp, catol, callback, bounds, **unknown_options)\u001b[0m\n\u001b[1;32m    275\u001b[0m \u001b[38;5;28;01mdef\u001b[39;00m \u001b[38;5;21m_jac\u001b[39m(x, \u001b[38;5;241m*\u001b[39margs):\n\u001b[1;32m    276\u001b[0m     \u001b[38;5;28;01mreturn\u001b[39;00m \u001b[38;5;28;01mNone\u001b[39;00m\n\u001b[0;32m--> 278\u001b[0m sf \u001b[38;5;241m=\u001b[39m _prepare_scalar_function(fun, x0, args\u001b[38;5;241m=\u001b[39margs, jac\u001b[38;5;241m=\u001b[39m_jac)\n\u001b[1;32m    280\u001b[0m \u001b[38;5;28;01mdef\u001b[39;00m \u001b[38;5;21mcalcfc\u001b[39m(x, con):\n\u001b[1;32m    281\u001b[0m     f \u001b[38;5;241m=\u001b[39m sf\u001b[38;5;241m.\u001b[39mfun(x)\n",
      "File \u001b[0;32m~/opt/anaconda3/envs/qskt-1.0/lib/python3.12/site-packages/scipy/optimize/_optimize.py:402\u001b[0m, in \u001b[0;36m_prepare_scalar_function\u001b[0;34m(fun, x0, jac, args, bounds, epsilon, finite_diff_rel_step, hess)\u001b[0m\n\u001b[1;32m    398\u001b[0m     bounds \u001b[38;5;241m=\u001b[39m (\u001b[38;5;241m-\u001b[39mnp\u001b[38;5;241m.\u001b[39minf, np\u001b[38;5;241m.\u001b[39minf)\n\u001b[1;32m    400\u001b[0m \u001b[38;5;66;03m# ScalarFunction caches. Reuse of fun(x) during grad\u001b[39;00m\n\u001b[1;32m    401\u001b[0m \u001b[38;5;66;03m# calculation reduces overall function evaluations.\u001b[39;00m\n\u001b[0;32m--> 402\u001b[0m sf \u001b[38;5;241m=\u001b[39m ScalarFunction(fun, x0, args, grad, hess,\n\u001b[1;32m    403\u001b[0m                     finite_diff_rel_step, bounds, epsilon\u001b[38;5;241m=\u001b[39mepsilon)\n\u001b[1;32m    405\u001b[0m \u001b[38;5;28;01mreturn\u001b[39;00m sf\n",
      "File \u001b[0;32m~/opt/anaconda3/envs/qskt-1.0/lib/python3.12/site-packages/scipy/optimize/_differentiable_functions.py:166\u001b[0m, in \u001b[0;36mScalarFunction.__init__\u001b[0;34m(self, fun, x0, args, grad, hess, finite_diff_rel_step, finite_diff_bounds, epsilon)\u001b[0m\n\u001b[1;32m    163\u001b[0m     \u001b[38;5;28mself\u001b[39m\u001b[38;5;241m.\u001b[39mf \u001b[38;5;241m=\u001b[39m fun_wrapped(\u001b[38;5;28mself\u001b[39m\u001b[38;5;241m.\u001b[39mx)\n\u001b[1;32m    165\u001b[0m \u001b[38;5;28mself\u001b[39m\u001b[38;5;241m.\u001b[39m_update_fun_impl \u001b[38;5;241m=\u001b[39m update_fun\n\u001b[0;32m--> 166\u001b[0m \u001b[38;5;28mself\u001b[39m\u001b[38;5;241m.\u001b[39m_update_fun()\n\u001b[1;32m    168\u001b[0m \u001b[38;5;66;03m# Gradient evaluation\u001b[39;00m\n\u001b[1;32m    169\u001b[0m \u001b[38;5;28;01mif\u001b[39;00m \u001b[38;5;28mcallable\u001b[39m(grad):\n",
      "File \u001b[0;32m~/opt/anaconda3/envs/qskt-1.0/lib/python3.12/site-packages/scipy/optimize/_differentiable_functions.py:262\u001b[0m, in \u001b[0;36mScalarFunction._update_fun\u001b[0;34m(self)\u001b[0m\n\u001b[1;32m    260\u001b[0m \u001b[38;5;28;01mdef\u001b[39;00m \u001b[38;5;21m_update_fun\u001b[39m(\u001b[38;5;28mself\u001b[39m):\n\u001b[1;32m    261\u001b[0m     \u001b[38;5;28;01mif\u001b[39;00m \u001b[38;5;129;01mnot\u001b[39;00m \u001b[38;5;28mself\u001b[39m\u001b[38;5;241m.\u001b[39mf_updated:\n\u001b[0;32m--> 262\u001b[0m         \u001b[38;5;28mself\u001b[39m\u001b[38;5;241m.\u001b[39m_update_fun_impl()\n\u001b[1;32m    263\u001b[0m         \u001b[38;5;28mself\u001b[39m\u001b[38;5;241m.\u001b[39mf_updated \u001b[38;5;241m=\u001b[39m \u001b[38;5;28;01mTrue\u001b[39;00m\n",
      "File \u001b[0;32m~/opt/anaconda3/envs/qskt-1.0/lib/python3.12/site-packages/scipy/optimize/_differentiable_functions.py:163\u001b[0m, in \u001b[0;36mScalarFunction.__init__.<locals>.update_fun\u001b[0;34m()\u001b[0m\n\u001b[1;32m    162\u001b[0m \u001b[38;5;28;01mdef\u001b[39;00m \u001b[38;5;21mupdate_fun\u001b[39m():\n\u001b[0;32m--> 163\u001b[0m     \u001b[38;5;28mself\u001b[39m\u001b[38;5;241m.\u001b[39mf \u001b[38;5;241m=\u001b[39m fun_wrapped(\u001b[38;5;28mself\u001b[39m\u001b[38;5;241m.\u001b[39mx)\n",
      "File \u001b[0;32m~/opt/anaconda3/envs/qskt-1.0/lib/python3.12/site-packages/scipy/optimize/_differentiable_functions.py:145\u001b[0m, in \u001b[0;36mScalarFunction.__init__.<locals>.fun_wrapped\u001b[0;34m(x)\u001b[0m\n\u001b[1;32m    141\u001b[0m \u001b[38;5;28mself\u001b[39m\u001b[38;5;241m.\u001b[39mnfev \u001b[38;5;241m+\u001b[39m\u001b[38;5;241m=\u001b[39m \u001b[38;5;241m1\u001b[39m\n\u001b[1;32m    142\u001b[0m \u001b[38;5;66;03m# Send a copy because the user may overwrite it.\u001b[39;00m\n\u001b[1;32m    143\u001b[0m \u001b[38;5;66;03m# Overwriting results in undefined behaviour because\u001b[39;00m\n\u001b[1;32m    144\u001b[0m \u001b[38;5;66;03m# fun(self.x) will change self.x, with the two no longer linked.\u001b[39;00m\n\u001b[0;32m--> 145\u001b[0m fx \u001b[38;5;241m=\u001b[39m fun(np\u001b[38;5;241m.\u001b[39mcopy(x), \u001b[38;5;241m*\u001b[39margs)\n\u001b[1;32m    146\u001b[0m \u001b[38;5;66;03m# Make sure the function returns a true scalar\u001b[39;00m\n\u001b[1;32m    147\u001b[0m \u001b[38;5;28;01mif\u001b[39;00m \u001b[38;5;129;01mnot\u001b[39;00m np\u001b[38;5;241m.\u001b[39misscalar(fx):\n",
      "Cell \u001b[0;32mIn[80], line 16\u001b[0m, in \u001b[0;36mexpectation_function4\u001b[0;34m(params, num_shots)\u001b[0m\n\u001b[1;32m     13\u001b[0m XI_IY_meas\u001b[38;5;241m.\u001b[39mh(\u001b[38;5;241m1\u001b[39m)  \n\u001b[1;32m     14\u001b[0m XI_IY_meas\u001b[38;5;241m.\u001b[39mmeasure([\u001b[38;5;241m0\u001b[39m,\u001b[38;5;241m1\u001b[39m],[\u001b[38;5;241m2\u001b[39m,\u001b[38;5;241m3\u001b[39m])\n\u001b[0;32m---> 16\u001b[0m job \u001b[38;5;241m=\u001b[39m execute(XI_IY_meas, backend \u001b[38;5;241m=\u001b[39m simulator, shots \u001b[38;5;241m=\u001b[39m num_shots)\n\u001b[1;32m     17\u001b[0m counts1 \u001b[38;5;241m=\u001b[39m marginal_counts(job\u001b[38;5;241m.\u001b[39mresult(), indices\u001b[38;5;241m=\u001b[39m[\u001b[38;5;241m0\u001b[39m,\u001b[38;5;241m1\u001b[39m])\u001b[38;5;241m.\u001b[39mget_counts()\n\u001b[1;32m     18\u001b[0m counts2 \u001b[38;5;241m=\u001b[39m marginal_counts(job\u001b[38;5;241m.\u001b[39mresult(), indices\u001b[38;5;241m=\u001b[39m[\u001b[38;5;241m2\u001b[39m,\u001b[38;5;241m3\u001b[39m])\u001b[38;5;241m.\u001b[39mget_counts()\n",
      "\u001b[0;31mNameError\u001b[0m: name 'execute' is not defined"
     ]
    }
   ],
   "source": [
    "optimizer = COBYLA(maxiter=100, tol=0.0001)\n",
    "params = np.random.rand(4)\n",
    "# ret = optimizer.optimize(num_vars=4, objective_function=expectation_function4, initial_point=params)\n",
    "ret = optimizer.minimize(expectation_function4, params)\n",
    "print(ret)\n",
    "exp = expectation_function4(ret.x)\n",
    "print(exp)"
   ]
  },
  {
   "cell_type": "code",
   "execution_count": 1,
   "id": "2de37b48-f30d-48c5-bcb8-490ef568c7cb",
   "metadata": {},
   "outputs": [],
   "source": [
    "from qiskit import IBMQ"
   ]
  },
  {
   "cell_type": "code",
   "execution_count": 2,
   "id": "e51513a1-8058-4382-87c1-09dbb2a2b027",
   "metadata": {
    "tags": []
   },
   "outputs": [
    {
     "name": "stderr",
     "output_type": "stream",
     "text": [
      "/tmp/ipykernel_61/139145531.py:1: DeprecationWarning: The package qiskit.providers.ibmq is being deprecated. Please see https://ibm.biz/provider_migration_guide to get instructions on how to migrate to qiskit-ibm-provider (https://github.com/Qiskit/qiskit-ibm-provider) and qiskit-ibm-runtime (https://github.com/Qiskit/qiskit-ibm-runtime).\n",
      "  IBMQ.load_account()\n",
      "/tmp/ipykernel_61/139145531.py:1: DeprecationWarning: The qiskit.IBMQ entrypoint and the qiskit-ibmq-provider package (accessible from 'qiskit.providers.ibmq`) are deprecated and will be removed in a future release. Instead you should use the qiskit-ibm-provider package which is accessible from 'qiskit_ibm_provider'. You can install it with 'pip install qiskit_ibm_provider'. Just replace 'qiskit.IBMQ' with 'qiskit_ibm_provider.IBMProvider'\n",
      "  IBMQ.load_account()\n"
     ]
    },
    {
     "data": {
      "text/plain": [
       "[<AccountProvider for IBMQ(hub='ibm-q', group='open', project='main')>,\n",
       " <AccountProvider for IBMQ(hub='ibm-q-internal', group='deployed', project='default')>]"
      ]
     },
     "execution_count": 2,
     "metadata": {},
     "output_type": "execute_result"
    }
   ],
   "source": [
    "IBMQ.load_account()\n",
    "IBMQ.providers()"
   ]
  },
  {
   "cell_type": "code",
   "execution_count": null,
   "id": "c2dd8870-c3cf-418d-8a1d-7dc565f3aa0b",
   "metadata": {},
   "outputs": [],
   "source": []
  }
 ],
 "metadata": {
  "kernelspec": {
   "display_name": "Python 3 (ipykernel)",
   "language": "python",
   "name": "python3"
  },
  "language_info": {
   "codemirror_mode": {
    "name": "ipython",
    "version": 3
   },
   "file_extension": ".py",
   "mimetype": "text/x-python",
   "name": "python",
   "nbconvert_exporter": "python",
   "pygments_lexer": "ipython3",
   "version": "3.12.4"
  },
  "widgets": {
   "application/vnd.jupyter.widget-state+json": {
    "state": {},
    "version_major": 2,
    "version_minor": 0
   }
  }
 },
 "nbformat": 4,
 "nbformat_minor": 5
}
