{
 "cells": [
  {
   "cell_type": "markdown",
   "id": "fe4a0fb0-4b6d-45e0-8174-8eeb3908b334",
   "metadata": {},
   "source": [
    "### Some visualization methods for getting familiar with gates and their effects"
   ]
  },
  {
   "cell_type": "markdown",
   "id": "65fd23a5-d5ab-43df-96da-69578ecc0306",
   "metadata": {},
   "source": [
    "**STATE PREPARATION**: Every qubit is prepared in the state $|0\\rangle$"
   ]
  },
  {
   "cell_type": "code",
   "execution_count": null,
   "id": "b3724318-1501-434b-b0e1-b6a0132d29a9",
   "metadata": {},
   "outputs": [],
   "source": [
    "from qiskit import QuantumCircuit\n",
    "from qiskit.visualization import *"
   ]
  },
  {
   "cell_type": "code",
   "execution_count": null,
   "id": "c351daf3-e824-4757-9729-65a9c8597fb0",
   "metadata": {},
   "outputs": [],
   "source": [
    "qc = QuantumCircuit(1)\n",
    "plot_bloch_multivector(qc)"
   ]
  },
  {
   "cell_type": "markdown",
   "id": "286a4dc9-8f48-464c-a300-ec895e1c8c7c",
   "metadata": {},
   "source": [
    "**ACTIONS OF SOME GATES**\n",
    "\n",
    "1. X gate: $X|0\\rangle = |1\\rangle$, $X|1\\rangle = |0\\rangle$"
   ]
  },
  {
   "cell_type": "code",
   "execution_count": null,
   "id": "2b028988-49cb-4354-bbdd-f69725bee911",
   "metadata": {},
   "outputs": [],
   "source": [
    "qc.x(0)\n",
    "plot_bloch_multivector(qc)"
   ]
  },
  {
   "cell_type": "markdown",
   "id": "8bb17749-c718-428f-b129-974149d30ece",
   "metadata": {},
   "source": [
    "2. H gate: $H|0\\rangle = 1/\\sqrt{2}(|0\\rangle + |1\\rangle)$, $H|1\\rangle = 1/\\sqrt{2}(|0\\rangle - |1\\rangle)$"
   ]
  },
  {
   "cell_type": "code",
   "execution_count": null,
   "id": "29291a3e-4fd5-447d-86d0-7bcd287c5102",
   "metadata": {},
   "outputs": [],
   "source": [
    "qc = QuantumCircuit(1)\n",
    "qc.h(0)\n",
    "plot_bloch_multivector(qc)"
   ]
  },
  {
   "cell_type": "markdown",
   "id": "2d9cc485-f5d2-4259-8e96-7895e954edf6",
   "metadata": {},
   "source": [
    "Q. How to prepare a state $\\frac{1}{\\sqrt{2}}(|0\\rangle - |1\\rangle)$?\n",
    "\n",
    "We know $H|1\\rangle = 1/\\sqrt{2}(|0\\rangle - |1\\rangle)$. But a qubit is always prepared in $|0\\rangle$! So we change the state of the qubit to $|1\\rangle$, then apply the Hadamard gate!"
   ]
  },
  {
   "cell_type": "code",
   "execution_count": null,
   "id": "644a2fd1-bdfc-4923-96e5-eb967c06e4af",
   "metadata": {},
   "outputs": [],
   "source": [
    "qc1 = QuantumCircuit(1)\n",
    "qc1.x(0)\n",
    "qc1.h(0)\n",
    "plot_bloch_multivector(qc1)"
   ]
  },
  {
   "cell_type": "code",
   "execution_count": null,
   "id": "da9a00c7-e45e-4141-b7fd-661a199766cb",
   "metadata": {},
   "outputs": [],
   "source": [
    "plot_state_qsphere(qc)"
   ]
  },
  {
   "cell_type": "code",
   "execution_count": null,
   "id": "521702a2-05fd-41ad-bb41-cc6e6e4abf94",
   "metadata": {},
   "outputs": [],
   "source": [
    "plot_state_qsphere(qc1)"
   ]
  },
  {
   "cell_type": "markdown",
   "id": "b361f5c9-3167-42e2-9397-ec9e3d12e4f9",
   "metadata": {},
   "source": [
    "Q. How to prepare a state $\\sqrt{\\frac{1}{3}}|0\\rangle + \\sqrt{\\frac{2}{3}}|1\\rangle$"
   ]
  },
  {
   "cell_type": "code",
   "execution_count": null,
   "id": "f2bca10e-a04a-4185-9e61-66cd8a6c449f",
   "metadata": {},
   "outputs": [],
   "source": [
    "required_state = [np.sqrt(1/3), np.sqrt(2/3)]\n",
    "\n",
    "qc = QuantumCircuit(1)\n",
    "qc.initialize(required_state)\n",
    "\n",
    "plot_state_qsphere(qc)"
   ]
  },
  {
   "cell_type": "markdown",
   "id": "ba67b5c7-b6aa-419f-bcb3-eb4449b1e5e4",
   "metadata": {},
   "source": [
    "**Fun activity**: Generate the logo of Qiskit!"
   ]
  },
  {
   "cell_type": "code",
   "execution_count": null,
   "id": "f6e637e1-c84e-42c4-9c57-cdcdb535f2ab",
   "metadata": {},
   "outputs": [],
   "source": [
    "state = [0]*2**6\n",
    "state[2] = 1; state[61] = 1\n",
    "plot_state_qsphere(state, show_state_labels=False)"
   ]
  },
  {
   "cell_type": "markdown",
   "id": "7818e483-2fb3-46fc-a895-020f47998fb3",
   "metadata": {},
   "source": [
    "3. Rotation gates: $R_x$, $R_y$ and $R_z$."
   ]
  },
  {
   "cell_type": "code",
   "execution_count": null,
   "id": "9e415aa5-a963-426e-985a-942537ee301e",
   "metadata": {},
   "outputs": [],
   "source": [
    "import numpy as np\n",
    "\n",
    "qc = QuantumCircuit(1)\n",
    "qc.rx(np.pi/6,0)\n",
    "plot_bloch_multivector(qc)"
   ]
  },
  {
   "cell_type": "code",
   "execution_count": null,
   "id": "d31af6fc-f807-4909-a8f8-a02eda0ef478",
   "metadata": {},
   "outputs": [],
   "source": [
    "for theta in np.linspace(0, 2*np.pi, 20):\n",
    "    qc = QuantumCircuit(1)\n",
    "    qc.ry(theta,0)\n",
    "    display(plot_bloch_multivector(qc))"
   ]
  },
  {
   "cell_type": "code",
   "execution_count": null,
   "id": "ae0e62df-ac0c-4788-935d-d2b053a2fc0f",
   "metadata": {},
   "outputs": [],
   "source": [
    "for theta in np.linspace(0, 2*np.pi, 20):\n",
    "    qc = QuantumCircuit(1)\n",
    "    qc.rx(theta,0)\n",
    "    display(plot_bloch_multivector(qc))"
   ]
  }
 ],
 "metadata": {
  "kernelspec": {
   "display_name": "Python 3 (ipykernel)",
   "language": "python",
   "name": "python3"
  },
  "language_info": {
   "codemirror_mode": {
    "name": "ipython",
    "version": 3
   },
   "file_extension": ".py",
   "mimetype": "text/x-python",
   "name": "python",
   "nbconvert_exporter": "python",
   "pygments_lexer": "ipython3",
   "version": "3.12.1"
  }
 },
 "nbformat": 4,
 "nbformat_minor": 5
}
