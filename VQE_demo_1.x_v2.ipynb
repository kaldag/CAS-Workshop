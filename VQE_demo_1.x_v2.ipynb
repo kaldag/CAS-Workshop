{
 "cells": [
  {
   "cell_type": "code",
   "execution_count": 19,
   "id": "7f455cc6-7caa-4ade-8381-83b2b3afa8da",
   "metadata": {
    "collapsed": true,
    "jupyter": {
     "outputs_hidden": true
    }
   },
   "outputs": [
    {
     "name": "stdout",
     "output_type": "stream",
     "text": [
      "1.1.1\n"
     ]
    }
   ],
   "source": [
    "import qiskit\n",
    "print(qiskit.__version__)"
   ]
  },
  {
   "cell_type": "markdown",
   "id": "5160dd53-f39d-41fe-8f1e-6a7834c5812d",
   "metadata": {},
   "source": [
    "# Finding minimum/maximum eigenvalues using VQE"
   ]
  },
  {
   "cell_type": "markdown",
   "id": "1169f21e-8f1b-4fe8-a07a-eba1efb7cff6",
   "metadata": {},
   "source": [
    "Many problems in Mathematics, Physics and Chemistry require the estimation of the minimum or the maximum eigenvalues of a system. Classically, for very large systems, variational forms have been in use to derive them. Let us say we have been given an operator (matrix) $L$, whose minimum eigenvalue we are interested in. \n",
    "\n",
    "We start off with an initial parametrized good guess (ansatz) $\\left| \\psi (\\theta) \\right\\rangle$. The expectation of this operator with respect to this ansatz $E = \\left\\langle L \\right\\rangle = \\left\\langle \\psi (\\theta)\\right| L \\left| \\psi (\\theta) \\right\\rangle$ is then calculated. An optimizer is then used to find the optimal parameters that minimizes (maximizes) this expectation value. The variational form ensures that \n",
    "\n",
    "$$ \\lambda _{min} \\leq \\left\\langle \\psi (\\theta)\\right| L \\left| \\psi (\\theta) \\right\\rangle.$$\n",
    "\n",
    "A perfect guess would be when the ansatz is the minimum eigenvector. That would give us $E = \\lambda _{min}$, the minimum eigenvalue. "
   ]
  },
  {
   "cell_type": "markdown",
   "id": "b2fea163-a22c-473f-8134-4614f2d3811e",
   "metadata": {},
   "source": [
    "For implementation in a Quantum computer the operator is expressed as a sum of Pauli operators, $Z, X, Y$ and $I$. Let us say, we want to find the minimum eigenvalue of the matrix $$ A = \\left[\\begin{array}{cc} 2 & 3 \\\\ 3 & 6 \\\\  \n",
    "\\end{array}\\right]$$. \n",
    "\n",
    "Now $A$ could be written as a sum of Pauli operators as follows.\n",
    "$$A = -2Z + 4I + 3X$$\n",
    "\n",
    "The expectation of $A$, $\\left\\langle A \\right\\rangle$, can be expressed as \n",
    "$$ \\left\\langle A \\right\\rangle = -2\\left\\langle Z \\right\\rangle + 4 + 3 \\left\\langle X \\right\\rangle $$\n"
   ]
  },
  {
   "cell_type": "markdown",
   "id": "830b561b-a8a8-4bf7-ade3-0ffc0405154c",
   "metadata": {},
   "source": [
    "This problem can be solved using a single qubit system, as our matrix is of size 2×2. We will create our ansatz by applying the 𝑈 gate to a |0⟩. The 𝑈 gate requires 3 parameters. More on 𝑈 gate can be found in the following link.\n",
    "\n",
    "https://docs.quantum.ibm.com/api/qiskit/qiskit.circuit.library.UGate\n",
    "\n",
    "Let us first find the eigenvalues of the matrix 𝐴 classically. "
   ]
  },
  {
   "cell_type": "code",
   "execution_count": 35,
   "id": "62e54f04-0782-4c01-bce4-b215ee756720",
   "metadata": {},
   "outputs": [
    {
     "name": "stdout",
     "output_type": "stream",
     "text": [
      "[0.39444872 7.60555128]\n"
     ]
    }
   ],
   "source": [
    "import numpy as np\n",
    "\n",
    "AA = np.array([[2, 3],[3, 6]])\n",
    "print(np.linalg.eig(AA)[0])"
   ]
  },
  {
   "cell_type": "code",
   "execution_count": 36,
   "id": "1168225a-4fb1-4aab-be96-0c6422084b86",
   "metadata": {},
   "outputs": [],
   "source": [
    "from qiskit import QuantumCircuit \n",
    "from qiskit.visualization import plot_histogram"
   ]
  },
  {
   "cell_type": "code",
   "execution_count": 37,
   "id": "75c7888d-0de3-4f7b-af9e-22715ecf8eff",
   "metadata": {},
   "outputs": [],
   "source": [
    "def var_circuit(params):\n",
    "    var_circ = QuantumCircuit(1)\n",
    "    var_circ.u(params[0], params[1], params[2],0)\n",
    "    return var_circ"
   ]
  },
  {
   "cell_type": "code",
   "execution_count": 38,
   "id": "bc8353ac-f6f6-446f-88fc-dcf1dae03bc1",
   "metadata": {},
   "outputs": [
    {
     "data": {
      "image/png": "[encoded data removed]",
      "text/plain": [
       "<Figure size 352.675x117.056 with 1 Axes>"
      ]
     },
     "execution_count": 38,
     "metadata": {},
     "output_type": "execute_result"
    }
   ],
   "source": [
    "params = np.random.rand(3)\n",
    "pri_ckt = var_circuit(params)\n",
    "pri_ckt.draw('mpl')"
   ]
  },
  {
   "cell_type": "markdown",
   "id": "3328ac50-e683-4a7f-9b70-772c39efadf7",
   "metadata": {},
   "source": [
    "## Estimating $\\left\\langle Z \\right\\rangle$"
   ]
  },
  {
   "cell_type": "markdown",
   "id": "a7f89c79-9a86-4158-9550-0b9fe04dd12b",
   "metadata": {},
   "source": [
    "The result of this measurement can either be $\\left| 0 \\right\\rangle$ or $\\left| 1 \\right\\rangle$. Since both are eigenvectors of $Z$, with eigenvalues $1$ and $-1$, $\\left\\langle Z \\right\\rangle$ will be equal to the number of times we have $1$ minus the mumber of times we have $-1$. \n",
    "For example, let us say, $\\left| \\psi \\right\\rangle = c_1 \\left| 0 \\right\\rangle + c_2 \\left| 1 \\right\\rangle.$ Then,\n",
    "\n",
    "$$\\left\\langle \\psi \\right| Z \\left| \\psi \\right\\rangle = c_1 ^2 - c_2 ^2 $$\n",
    "\n",
    "\n",
    "$c_1^2$ is the probability of occurence of $\\left| 0 \\right\\rangle$ and $c_2^2$ is the probability of occurence of $\\left| 1 \\right\\rangle$. This is calculated as given below."
   ]
  },
  {
   "cell_type": "markdown",
   "id": "64e160bd-30ec-4a9c-a306-bc9f5619836e",
   "metadata": {},
   "source": [
    "### We will first do it with a simulator. Then a fake backend."
   ]
  },
  {
   "cell_type": "code",
   "execution_count": 39,
   "id": "f4ea08fb-f8e3-44c0-b5cb-3a3828c177b3",
   "metadata": {},
   "outputs": [],
   "source": [
    "from qiskit_aer.primitives import Sampler\n",
    "\n",
    "sampler_sim = Sampler(backend_options={\"method\": \"matrix_product_state\", \"shots\":10000})"
   ]
  },
  {
   "cell_type": "code",
   "execution_count": 40,
   "id": "5a1079eb-8e77-45af-847f-149c84018ac7",
   "metadata": {},
   "outputs": [
    {
     "name": "stdout",
     "output_type": "stream",
     "text": [
      "{1: 0.0006, 0: 0.9994}\n"
     ]
    },
    {
     "data": {
      "image/png": "[encoded data removed]",
      "text/plain": [
       "<Figure size 640x480 with 1 Axes>"
      ]
     },
     "execution_count": 40,
     "metadata": {},
     "output_type": "execute_result"
    }
   ],
   "source": [
    "Zmeas = pri_ckt.copy()\n",
    "Zmeas.measure_all()\n",
    "Zmeas.draw('mpl')\n",
    "\n",
    "result = sampler_sim.run(Zmeas).result()\n",
    "counts = result.quasi_dists[0]\n",
    "print(counts)\n",
    "plot_histogram(counts) \n",
    "\n",
    "## Calculate <Z>\n",
    "# zz = \n"
   ]
  },
  {
   "cell_type": "markdown",
   "id": "6f71aec7-be83-4be5-a31e-7e738ac6cf1a",
   "metadata": {},
   "source": [
    "## Estimating $\\left\\langle X \\right\\rangle$"
   ]
  },
  {
   "cell_type": "markdown",
   "id": "722278b1-5618-4b74-979f-eb7ad8c61c89",
   "metadata": {},
   "source": [
    "In a Quantum computer measurements are always performed in the $Z$ computational basis. $\\left\\langle X \\right\\rangle$ can be estimated by first expressing $X$ in the form $HZH$ using the Hadamard gates $H$. That would give us the following.\n",
    "\n",
    "$$ \\left\\langle\\psi\\right| X\\left| \\psi\\right\\rangle = \\left\\langle \\psi\\right| HZH \\left| \\psi\\right\\rangle$$\n",
    "$$  = \\left\\langle \\psi H \\right| Z \\left| H\\psi\\right\\rangle$$\n",
    "\n",
    "This is equivalent to finding $\\left\\langle Z \\right\\rangle$ after operating an extra Hadamard gate on the ansatz. This is as given below. "
   ]
  },
  {
   "cell_type": "code",
   "execution_count": 7,
   "id": "6ce926ab-ceaf-44c6-aff8-8a924c612b8a",
   "metadata": {
    "collapsed": true,
    "jupyter": {
     "outputs_hidden": true
    }
   },
   "outputs": [
    {
     "name": "stdout",
     "output_type": "stream",
     "text": [
      "{1: 0.4731, 0: 0.5269}\n"
     ]
    },
    {
     "data": {
      "image/png": "[encoded data removed]",
      "text/plain": [
       "<Figure size 640x480 with 1 Axes>"
      ]
     },
     "execution_count": 7,
     "metadata": {},
     "output_type": "execute_result"
    }
   ],
   "source": [
    "Xmeas = pri_ckt.copy()\n",
    "## Convert to Z computational basis\n",
    "# Xmeas.\n",
    "\n",
    "Xmeas.measure_all()\n",
    "Xmeas.draw('mpl')\n",
    "result = sampler_sim.run(Xmeas).result()\n",
    "counts = result.quasi_dists[0]\n",
    "\n",
    "print(counts)\n",
    "plot_histogram(counts) \n",
    "## Calculate <Z>\n",
    "# xx = \n"
   ]
  },
  {
   "cell_type": "markdown",
   "id": "04210747-c371-4e92-a62d-95ee55cf354e",
   "metadata": {},
   "source": [
    "## Overall expectation value of the operator"
   ]
  },
  {
   "cell_type": "code",
   "execution_count": 8,
   "id": "6a87f9c2-1f43-474d-82a1-9d60c9dd3fc7",
   "metadata": {
    "collapsed": true,
    "jupyter": {
     "outputs_hidden": true
    }
   },
   "outputs": [
    {
     "name": "stdout",
     "output_type": "stream",
     "text": [
      "2.169\n"
     ]
    }
   ],
   "source": [
    "eig_value = -2*zz + 4 + 3*xx\n",
    "print(eig_value)"
   ]
  },
  {
   "cell_type": "markdown",
   "id": "38b33438-9258-4eb9-b3c2-e66603eaaa9f",
   "metadata": {},
   "source": [
    "We started off with a random set of paramaters and reached a value of 'xx' using 100 shots for calculating the expectation. This is not close to the expected lowest eigenvalue of $0.39$. We will have to further optimize the parameters using an optimizer, which will form the classical part of the system. "
   ]
  },
  {
   "cell_type": "markdown",
   "id": "0bafc63d-6160-43b4-bc9a-f3499770824a",
   "metadata": {},
   "source": [
    "### Overall expectation function\n",
    "Putting all the expectation value evaluations together under function."
   ]
  },
  {
   "cell_type": "code",
   "execution_count": 9,
   "id": "cb2d4e03-80f2-469c-a969-8aadf3b71911",
   "metadata": {
    "collapsed": true,
    "jupyter": {
     "outputs_hidden": true
    }
   },
   "outputs": [
    {
     "name": "stdout",
     "output_type": "stream",
     "text": [
      "2.8520000000000003 [0.28753499 0.3792752  0.77965704]\n",
      "6.123000000000001 [1.28753499 0.3792752  0.77965704]\n",
      "2.2182 [0.28753499 1.3792752  0.77965704]\n",
      "2.2088 [0.28753499 1.3792752  1.77965704]\n",
      "2.4618 [-0.69420155  1.56949979  1.78247829]\n",
      "1.9593999999999996 [0.54489178 1.80790916 1.78601419]\n",
      "1.3988 [0.87250924 2.18550773 1.79529452]\n",
      "0.6532 [0.92272087 2.66640013 1.66793169]\n",
      "0.3999999999999999 [0.94117617 3.15023641 1.54318451]\n",
      "0.7412000000000001 [1.42840026 3.20241594 1.44373612]\n",
      "0.4276000000000004 [0.98352733 3.21023443 1.78215442]\n",
      "0.8250000000000002 [0.52932295 3.42779559 1.48541064]\n",
      "0.5648000000000004 [0.73524956 3.289016   1.51429757]\n",
      "0.4106000000000001 [0.91186242 3.03178184 1.57028098]\n",
      "0.38160000000000016 [1.05936633 3.12763488 1.50934285]\n",
      "0.4522000000000004 [1.13863308 3.14552078 1.41435929]\n",
      "0.387 [1.10958334 3.14894658 1.6218109 ]\n",
      "0.4016000000000002 [1.05623752 3.0662588  1.52071993]\n",
      "0.44120000000000026 [1.03271154 3.14216738 1.51675172]\n",
      "0.4064000000000001 [1.054025   3.12522229 1.49485871]\n",
      "0.42859999999999987 [1.08933984 3.13134293 1.51736791]\n",
      "0.41959999999999953 [1.05694835 3.11343224 1.5153909 ]\n",
      "0.3904000000000005 [1.06599645 3.13176326 1.50952489]\n",
      "0.41659999999999986 [1.05442808 3.13290978 1.51231341]\n",
      "0.4430000000000005 [1.05928798 3.12707583 1.5054776 ]\n",
      "0.3757999999999999 [1.06033336 3.12555576 1.51250526]\n",
      "0.3777999999999997 [1.05942808 3.12676841 1.51374003]\n",
      "0.4203999999999999 [1.06115466 3.1260762  1.51259628]\n",
      "0.4068000000000005 [1.05873097 3.12445034 1.51234687]\n",
      "0.39359999999999973 [1.06120436 3.12597968 1.51262908]\n",
      "0.38560000000000016 [1.06042912 3.12525112 1.51287465]\n",
      "0.41140000000000043 [1.05964042 3.12567016 1.51182673]\n",
      "0.4179999999999997 [1.06031643 3.12519584 1.5128348 ]\n",
      "0.387 [1.06043121 3.12540222 1.51234261]\n",
      "0.39120000000000044 [1.06008421 3.12593079 1.51231633]\n",
      "0.4168000000000003 [1.06053427 3.12568417 1.51255769]\n",
      "0.3872 [1.06024382 3.12557363 1.51246448]\n",
      "0.41559999999999997 [1.0603142  3.12551698 1.51253034]\n",
      "0.3714000000000004 [1.06038183 3.12563497 1.51246818]\n",
      "0.43279999999999985 [1.06036886 3.12566173 1.51250838]\n",
      "0.4159999999999999 [1.06041676 3.12558194 1.51239093]\n",
      "{   'fun': 0.4159999999999999,\n",
      "    'jac': None,\n",
      "    'nfev': 41,\n",
      "    'nit': None,\n",
      "    'njev': None,\n",
      "    'x': array([1.06041676, 3.12558194, 1.51239093])}\n",
      "\n",
      "   Normal return from subroutine COBYLA\n",
      "\n",
      "   NFVALS =   41   F = 4.160000E-01    MAXCV = 0.000000E+00\n",
      "   X = 1.060417E+00   3.125582E+00   1.512391E+00\n"
     ]
    }
   ],
   "source": [
    "def expectation_function(params):\n",
    "    var_circ = QuantumCircuit(1)\n",
    "    var_circ.u(params[0], params[1], params[2],0)\n",
    "        \n",
    "    #### Z measurement #####\n",
    "    Zmeas = var_circ.copy()\n",
    "    \n",
    "    ## Write your code here\n",
    "\n",
    "    #### X measurement #####\n",
    "    Xmeas = var_circ.copy()\n",
    "    \n",
    "    ## Write your code here\n",
    "    \n",
    "    cost = -2*zz + 3*xx + 4\n",
    "    print(cost, params)\n",
    "    return cost\n",
    "\n",
    "from qiskit_algorithms.optimizers import COBYLA\n",
    "\n",
    "optimizer = COBYLA(maxiter=100, tol=0.0001, disp = True)\n",
    "params = np.random.rand(3)\n",
    "ret = optimizer.minimize(expectation_function, params)\n",
    "print(ret)"
   ]
  },
  {
   "cell_type": "markdown",
   "id": "ce676020-166a-4967-bcb6-70e59cdd74cb",
   "metadata": {},
   "source": [
    "## We will use a fake backend now"
   ]
  },
  {
   "cell_type": "code",
   "execution_count": 15,
   "id": "2a6313e2-aa95-4189-bcb9-5cdf601dcbc6",
   "metadata": {
    "collapsed": true,
    "jupyter": {
     "outputs_hidden": true
    }
   },
   "outputs": [],
   "source": [
    "from qiskit_ibm_runtime import SamplerV2 as Sampler\n",
    "from qiskit_ibm_runtime import EstimatorV2 as Estimator\n",
    "from qiskit_ibm_runtime.fake_provider import FakeSherbrooke, FakeManilaV2, FakeMumbaiV2\n",
    "from qiskit.transpiler.preset_passmanagers import generate_preset_pass_manager\n",
    "\n",
    "# backend = FakeManilaV2()\n",
    "backend = FakeMumbaiV2()\n",
    "sampler_fake = Sampler(backend)"
   ]
  },
  {
   "cell_type": "code",
   "execution_count": 119,
   "id": "56f2e1ab-9596-4108-8d9f-0aea72175264",
   "metadata": {
    "collapsed": true,
    "jupyter": {
     "outputs_hidden": true
    }
   },
   "outputs": [
    {
     "name": "stdout",
     "output_type": "stream",
     "text": [
      "PrimitiveResult([PubResult(data=DataBin(meas=BitArray(<shape=(), num_shots=10000, num_bits=1>)))], metadata={})\n",
      "3.7952000000000004 [0.5786118  0.45881193 0.53781497]\n",
      "PrimitiveResult([PubResult(data=DataBin(meas=BitArray(<shape=(), num_shots=10000, num_bits=1>)))], metadata={})\n",
      "6.606999999999999 [1.5786118  0.45881193 0.53781497]\n",
      "PrimitiveResult([PubResult(data=DataBin(meas=BitArray(<shape=(), num_shots=10000, num_bits=1>)))], metadata={})\n",
      "2.6012 [0.5786118  1.45881193 0.53781497]\n",
      "PrimitiveResult([PubResult(data=DataBin(meas=BitArray(<shape=(), num_shots=10000, num_bits=1>)))], metadata={})\n",
      "2.5620000000000003 [0.5786118  1.45881193 1.53781497]\n",
      "PrimitiveResult([PubResult(data=DataBin(meas=BitArray(<shape=(), num_shots=10000, num_bits=1>)))], metadata={})\n",
      "2.4942 [-0.34176291  1.84963894  1.55064614]\n",
      "PrimitiveResult([PubResult(data=DataBin(meas=BitArray(<shape=(), num_shots=10000, num_bits=1>)))], metadata={})\n",
      "2.4318 [-0.17107065  2.31934773  1.56606706]\n",
      "PrimitiveResult([PubResult(data=DataBin(meas=BitArray(<shape=(), num_shots=10000, num_bits=1>)))], metadata={})\n",
      "2.4638 [-0.17107065  2.31114444  1.81593244]\n",
      "PrimitiveResult([PubResult(data=DataBin(meas=BitArray(<shape=(), num_shots=10000, num_bits=1>)))], metadata={})\n",
      "2.677 [-0.21061909  2.69595277  1.23956351]\n",
      "PrimitiveResult([PubResult(data=DataBin(meas=BitArray(<shape=(), num_shots=10000, num_bits=1>)))], metadata={})\n",
      "2.0154 [0.04090565 2.24593838 1.45571708]\n",
      "PrimitiveResult([PubResult(data=DataBin(meas=BitArray(<shape=(), num_shots=10000, num_bits=1>)))], metadata={})\n",
      "1.6383999999999999 [0.52131665 2.10795316 1.44285835]\n",
      "PrimitiveResult([PubResult(data=DataBin(meas=BitArray(<shape=(), num_shots=10000, num_bits=1>)))], metadata={})\n",
      "1.6198000000000001 [0.66362291 2.09868554 0.96362663]\n",
      "PrimitiveResult([PubResult(data=DataBin(meas=BitArray(<shape=(), num_shots=10000, num_bits=1>)))], metadata={})\n",
      "1.2527999999999997 [0.73289192 2.33836848 0.97956072]\n",
      "PrimitiveResult([PubResult(data=DataBin(meas=BitArray(<shape=(), num_shots=10000, num_bits=1>)))], metadata={})\n",
      "0.8234000000000004 [1.07353221 2.69494126 1.0621443 ]\n",
      "PrimitiveResult([PubResult(data=DataBin(meas=BitArray(<shape=(), num_shots=10000, num_bits=1>)))], metadata={})\n",
      "0.5716000000000001 [0.94697451 3.17516761 1.0041288 ]\n",
      "PrimitiveResult([PubResult(data=DataBin(meas=BitArray(<shape=(), num_shots=10000, num_bits=1>)))], metadata={})\n",
      "0.8872 [1.27967105 3.52941547 0.88656407]\n",
      "PrimitiveResult([PubResult(data=DataBin(meas=BitArray(<shape=(), num_shots=10000, num_bits=1>)))], metadata={})\n",
      "0.5928000000000004 [0.87943887 3.28366078 1.48752115]\n",
      "PrimitiveResult([PubResult(data=DataBin(meas=BitArray(<shape=(), num_shots=10000, num_bits=1>)))], metadata={})\n",
      "0.6966000000000001 [0.70447011 3.20931579 0.95387426]\n",
      "PrimitiveResult([PubResult(data=DataBin(meas=BitArray(<shape=(), num_shots=10000, num_bits=1>)))], metadata={})\n",
      "0.5342000000000002 [0.93844441 3.20100004 1.12613258]\n",
      "PrimitiveResult([PubResult(data=DataBin(meas=BitArray(<shape=(), num_shots=10000, num_bits=1>)))], metadata={})\n",
      "0.5830000000000002 [0.94943026 3.26134365 1.11412384]\n",
      "PrimitiveResult([PubResult(data=DataBin(meas=BitArray(<shape=(), num_shots=10000, num_bits=1>)))], metadata={})\n",
      "0.5594000000000001 [0.97826376 3.10117334 1.18996085]\n",
      "PrimitiveResult([PubResult(data=DataBin(meas=BitArray(<shape=(), num_shots=10000, num_bits=1>)))], metadata={})\n",
      "0.6339999999999999 [0.81663894 3.17728515 1.14116694]\n",
      "PrimitiveResult([PubResult(data=DataBin(meas=BitArray(<shape=(), num_shots=10000, num_bits=1>)))], metadata={})\n",
      "0.5701999999999998 [0.98286437 3.2429105  1.13942283]\n",
      "PrimitiveResult([PubResult(data=DataBin(meas=BitArray(<shape=(), num_shots=10000, num_bits=1>)))], metadata={})\n",
      "0.5502000000000002 [0.9081958  3.20222858 1.13388339]\n",
      "PrimitiveResult([PubResult(data=DataBin(meas=BitArray(<shape=(), num_shots=10000, num_bits=1>)))], metadata={})\n",
      "0.5712000000000002 [0.9353332  3.20852617 1.11279772]\n",
      "PrimitiveResult([PubResult(data=DataBin(meas=BitArray(<shape=(), num_shots=10000, num_bits=1>)))], metadata={})\n",
      "0.5651999999999999 [0.94776399 3.17593593 1.14230348]\n",
      "PrimitiveResult([PubResult(data=DataBin(meas=BitArray(<shape=(), num_shots=10000, num_bits=1>)))], metadata={})\n",
      "0.5581999999999998 [0.94261458 3.2117641  1.1366628 ]\n",
      "PrimitiveResult([PubResult(data=DataBin(meas=BitArray(<shape=(), num_shots=10000, num_bits=1>)))], metadata={})\n",
      "0.5309999999999997 [0.93982935 3.19353531 1.12797509]\n",
      "PrimitiveResult([PubResult(data=DataBin(meas=BitArray(<shape=(), num_shots=10000, num_bits=1>)))], metadata={})\n",
      "0.5415999999999999 [0.94031954 3.18996174 1.12104512]\n",
      "PrimitiveResult([PubResult(data=DataBin(meas=BitArray(<shape=(), num_shots=10000, num_bits=1>)))], metadata={})\n",
      "0.5461999999999998 [0.93598584 3.19284321 1.12806011]\n",
      "PrimitiveResult([PubResult(data=DataBin(meas=BitArray(<shape=(), num_shots=10000, num_bits=1>)))], metadata={})\n",
      "0.5823999999999998 [0.94704548 3.19475013 1.13071129]\n",
      "PrimitiveResult([PubResult(data=DataBin(meas=BitArray(<shape=(), num_shots=10000, num_bits=1>)))], metadata={})\n",
      "0.5991999999999997 [0.9360821  3.19283799 1.1288299 ]\n",
      "PrimitiveResult([PubResult(data=DataBin(meas=BitArray(<shape=(), num_shots=10000, num_bits=1>)))], metadata={})\n",
      "0.5802000000000005 [0.9417485  3.19387602 1.12809938]\n",
      "PrimitiveResult([PubResult(data=DataBin(meas=BitArray(<shape=(), num_shots=10000, num_bits=1>)))], metadata={})\n",
      "0.5894000000000004 [0.94000174 3.19257449 1.12794702]\n",
      "PrimitiveResult([PubResult(data=DataBin(meas=BitArray(<shape=(), num_shots=10000, num_bits=1>)))], metadata={})\n",
      "0.5899999999999999 [0.93950661 3.19426251 1.12619135]\n",
      "PrimitiveResult([PubResult(data=DataBin(meas=BitArray(<shape=(), num_shots=10000, num_bits=1>)))], metadata={})\n",
      "0.5264000000000002 [0.93940457 3.19410421 1.1286456 ]\n",
      "PrimitiveResult([PubResult(data=DataBin(meas=BitArray(<shape=(), num_shots=10000, num_bits=1>)))], metadata={})\n",
      "0.6086 [0.93923154 3.1944142  1.12831036]\n",
      "PrimitiveResult([PubResult(data=DataBin(meas=BitArray(<shape=(), num_shots=10000, num_bits=1>)))], metadata={})\n",
      "0.5870000000000002 [0.93960892 3.19423671 1.12866264]\n",
      "PrimitiveResult([PubResult(data=DataBin(meas=BitArray(<shape=(), num_shots=10000, num_bits=1>)))], metadata={})\n",
      "0.5488 [0.93915448 3.19372345 1.12882138]\n",
      "PrimitiveResult([PubResult(data=DataBin(meas=BitArray(<shape=(), num_shots=10000, num_bits=1>)))], metadata={})\n",
      "0.5126 [0.93960465 3.19409716 1.12878532]\n",
      "PrimitiveResult([PubResult(data=DataBin(meas=BitArray(<shape=(), num_shots=10000, num_bits=1>)))], metadata={})\n",
      "0.5836000000000001 [0.9398136  3.19420477 1.12885139]\n",
      "PrimitiveResult([PubResult(data=DataBin(meas=BitArray(<shape=(), num_shots=10000, num_bits=1>)))], metadata={})\n",
      "0.6088 [0.93954554 3.19415808 1.12887304]\n",
      "PrimitiveResult([PubResult(data=DataBin(meas=BitArray(<shape=(), num_shots=10000, num_bits=1>)))], metadata={})\n",
      "0.565 [0.93966138 3.1938699  1.12871647]\n",
      "PrimitiveResult([PubResult(data=DataBin(meas=BitArray(<shape=(), num_shots=10000, num_bits=1>)))], metadata={})\n",
      "0.5343999999999998 [0.93955241 3.19408162 1.12886916]\n",
      "PrimitiveResult([PubResult(data=DataBin(meas=BitArray(<shape=(), num_shots=10000, num_bits=1>)))], metadata={})\n",
      "0.5691999999999999 [0.93956247 3.19409473 1.12875858]\n",
      "PrimitiveResult([PubResult(data=DataBin(meas=BitArray(<shape=(), num_shots=10000, num_bits=1>)))], metadata={})\n",
      "0.5748000000000002 [0.93969218 3.19412695 1.12882341]\n",
      "PrimitiveResult([PubResult(data=DataBin(meas=BitArray(<shape=(), num_shots=10000, num_bits=1>)))], metadata={})\n",
      "0.5964 [0.93958893 3.19414462 1.12878432]\n",
      "PrimitiveResult([PubResult(data=DataBin(meas=BitArray(<shape=(), num_shots=10000, num_bits=1>)))], metadata={})\n",
      "0.6082000000000001 [0.93961052 3.19400145 1.12875694]\n",
      "{   'fun': 0.6082000000000001,\n",
      "    'jac': None,\n",
      "    'nfev': 47,\n",
      "    'nit': None,\n",
      "    'njev': None,\n",
      "    'x': array([0.93961052, 3.19400145, 1.12875694])}\n"
     ]
    }
   ],
   "source": [
    "def expectation_function(params):\n",
    "    pm = generate_preset_pass_manager(optimization_level=1, backend=backend)\n",
    "    \n",
    "    var_circ = QuantumCircuit(1)\n",
    "    var_circ.u(params[0], params[1], params[2],0)\n",
    "    shots = 10000    \n",
    "    #### Z measurement #####\n",
    "    Zmeas = var_circ.copy()\n",
    "    Zmeas.measure_all()\n",
    "    \n",
    "    Zmeas_tr = pm.run(Zmeas)\n",
    "    result = sampler_fake.run([Zmeas_tr], shots = shots).result()\n",
    "    counts = result[0].data.meas.get_counts()\n",
    "    total_counts = counts['0'] + counts['1']\n",
    "    zz = (counts['0'] - counts['1'])/total_counts\n",
    "    \n",
    "    #### X measurement #####\n",
    "    Xmeas = var_circ.copy()\n",
    "    Xmeas.h(0)\n",
    "    Xmeas.measure_all()\n",
    "    \n",
    "    Xmeas_tr = pm.run(Xmeas)\n",
    "    result = sampler_fake.run([Xmeas_tr], shots = shots).result()\n",
    "    counts = result[0].data.meas.get_counts()\n",
    "    total_counts = counts['0'] + counts['1']\n",
    "    xx = (counts['0'] - counts['1'])/total_counts\n",
    "    \n",
    "    cost = -2*zz + 3*xx + 4\n",
    "    # print(cost, params)\n",
    "    return cost\n",
    "\n",
    "from qiskit_algorithms.optimizers import COBYLA\n",
    "optimizer = COBYLA(maxiter=100)\n",
    "params = np.random.rand(3)\n",
    "ret = optimizer.minimize(expectation_function, params)\n",
    "print(ret)"
   ]
  },
  {
   "cell_type": "markdown",
   "id": "094fd267-e03f-491c-b249-30689d680eb6",
   "metadata": {},
   "source": [
    "We have reached $0.4$ which is almost equal to the value we wanted. To get the maximum eigenvalue, we will have to just negate the cost function. \n",
    "\n",
    "This methodology can be used to find the minimum eigenvalues of much bigger systems. We will try to find the smallest eigenvalue of the $4\\times4$ operator given by \n",
    "\n",
    "$$ L = 2XX $$\n",
    "\n",
    "Here a $XX = X\\otimes X$. \n",
    "\n",
    "Let us first find out the eigenvalues of the matrix $L$. "
   ]
  },
  {
   "cell_type": "code",
   "execution_count": 10,
   "id": "0c698574-d4f0-4105-a950-b3c5632b9fb5",
   "metadata": {
    "collapsed": true,
    "jupyter": {
     "outputs_hidden": true
    }
   },
   "outputs": [
    {
     "name": "stdout",
     "output_type": "stream",
     "text": [
      "[ 2. -2.  2. -2.]\n"
     ]
    }
   ],
   "source": [
    "X = np.array([[0, 1],[1, 0]])\n",
    "XX = np.kron(X,X)\n",
    "L = 2*XX\n",
    "print(np.linalg.eig(L)[0])"
   ]
  },
  {
   "cell_type": "markdown",
   "id": "09096d5a-3fea-46e5-bd1e-ebfbfcac580b",
   "metadata": {},
   "source": [
    "Let us first create our ansatz. For creating the ansatz we will use a combination of $R_y$, $R_z$ and $CNOT$ (`CX`) gates as shown below. However, unlike in our previous example, these variational forms have to repeated several times for better results. "
   ]
  },
  {
   "cell_type": "code",
   "execution_count": 11,
   "id": "9d2522f1-dec6-45c7-95f0-9ec095ee1ab2",
   "metadata": {},
   "outputs": [
    {
     "data": {
      "image/png": "[encoded data removed]",
      "text/plain": [
       "<Figure size 1039.79x200.667 with 1 Axes>"
      ]
     },
     "execution_count": 11,
     "metadata": {},
     "output_type": "execute_result"
    }
   ],
   "source": [
    "def var_form(params, depth):\n",
    "    var_circ = QuantumCircuit(2)\n",
    "    var_circ.ry(params[0], 0)\n",
    "    var_circ.rz(params[1], 0)\n",
    "    var_circ.ry(params[0], 1)\n",
    "    var_circ.rz(params[1], 1)\n",
    "        \n",
    "    for jj in range(depth):\n",
    "        var_circ.cx(0, 1)\n",
    "        var_circ.ry(params[0], 0)\n",
    "        var_circ.rz(params[1], 0)\n",
    "        var_circ.ry(params[0], 1)\n",
    "        var_circ.rz(params[1], 1)\n",
    "    \n",
    "    return var_circ \n",
    "\n",
    "params = np.random.rand(2)\n",
    "depth = 3\n",
    "ckt = var_form(params, depth)\n",
    "ckt.draw('mpl')"
   ]
  },
  {
   "cell_type": "markdown",
   "id": "c5f45f6f-5aed-47d5-900f-5350889fff48",
   "metadata": {},
   "source": [
    "We write down our expectation function now. Our operator has two $X$ Pauli matrices. We can convert them to the Z form by operating $H$ gates on both the qubits. For finding the expectation of $\\left\\langle ZZ \\right\\rangle$, we must remember the following.\n",
    "\\begin{equation}\n",
    "\\begin{aligned}\n",
    "ZZ\\left| 00 \\right\\rangle &= \\left| 00 \\right\\rangle \\\\\n",
    "ZZ\\left| 01 \\right\\rangle &= -\\left| 01 \\right\\rangle \\\\\n",
    "ZZ\\left| 10 \\right\\rangle &= -\\left| 10 \\right\\rangle \\\\\n",
    "ZZ\\left| 11 \\right\\rangle &= \\left| 11 \\right\\rangle \n",
    "\\end{aligned}\n",
    "\\end{equation}\n",
    "\n",
    "Thus \n",
    "$$\\left\\langle ZZ \\right\\rangle = \\textrm{\\#('00') + \\#('11') - \\#('01') - \\#('10')}$$"
   ]
  },
  {
   "cell_type": "code",
   "execution_count": 12,
   "id": "c59e4afb-83e3-4309-bfb6-faa8f17d3fe3",
   "metadata": {
    "collapsed": true,
    "jupyter": {
     "outputs_hidden": true
    }
   },
   "outputs": [
    {
     "name": "stdout",
     "output_type": "stream",
     "text": [
      "{   'fun': -1.9992,\n",
      "    'jac': None,\n",
      "    'nfev': 36,\n",
      "    'nit': None,\n",
      "    'njev': None,\n",
      "    'x': array([ 1.57039021, -0.02402731])}\n"
     ]
    }
   ],
   "source": [
    "### Simulator\n",
    "def expectation_function2(params, num_shots = 10000):\n",
    "    var_circ = var_form(params, 2)\n",
    "    \n",
    "    #### XX measurement #####\n",
    "    Xmeas = var_circ.copy()\n",
    "    ## Write your code here\n",
    "    \n",
    "    Xmeas.measure_all()\n",
    "    result = sampler_sim.run(Xmeas).result()\n",
    "    counts = result.quasi_dists[0]\n",
    "    \n",
    "    list_bin = [0,1,2,3]\n",
    "    for jj in list_bin:\n",
    "        if jj not in counts:\n",
    "            counts[jj] = 0\n",
    "\n",
    "    \n",
    "    ## Write your code here\n",
    "    # xx = \n",
    "    \n",
    "    cost = 2*xx\n",
    "    return cost\n",
    "\n",
    "optimizer = COBYLA(maxiter=100, tol=0.0001)\n",
    "params = np.random.rand(2)\n",
    "ret = optimizer.minimize(expectation_function2, params)\n",
    "print(ret)"
   ]
  },
  {
   "cell_type": "code",
   "execution_count": 118,
   "id": "931323e5-9f5d-4d81-ba0b-3530362a3edb",
   "metadata": {
    "collapsed": true,
    "jupyter": {
     "outputs_hidden": true
    }
   },
   "outputs": [
    {
     "name": "stdout",
     "output_type": "stream",
     "text": [
      "{   'fun': -1.6552,\n",
      "    'jac': None,\n",
      "    'nfev': 27,\n",
      "    'nit': None,\n",
      "    'njev': None,\n",
      "    'x': array([1.63898328, 1.54527619])}\n"
     ]
    }
   ],
   "source": [
    "### Fake backend\n",
    "def expectation_function2(params, num_shots = 10000):\n",
    "    pm = generate_preset_pass_manager(optimization_level=1, backend=backend)\n",
    "    var_circ = var_form(params, 2)\n",
    "    num_shots = 10000    \n",
    "    \n",
    "    #### XX measurement #####\n",
    "    Xmeas = var_circ.copy()\n",
    "    ## Write your code here\n",
    "    \n",
    "    \n",
    "    Xmeas_tr = pm.run(Xmeas)\n",
    "    result = sampler_fake.run([Xmeas_tr], shots = num_shots).result()\n",
    "    counts = result[0].data.meas.get_counts()\n",
    "    \n",
    "    list_bin = ['00','01','10','11']\n",
    "    for jj in list_bin:\n",
    "        if jj not in counts:\n",
    "            counts[jj] = 0\n",
    "    \n",
    "    ## Write your code here\n",
    "    # total_counts = \n",
    "    # xx = \n",
    "    \n",
    "    cost = 2*xx\n",
    "    return cost\n",
    "\n",
    "optimizer = COBYLA(maxiter=100)\n",
    "params = np.random.rand(2)\n",
    "ret = optimizer.minimize(expectation_function2, params)\n",
    "print(ret)"
   ]
  },
  {
   "cell_type": "markdown",
   "id": "59a7a580-8a88-4cc4-85c3-d6386648fb6b",
   "metadata": {},
   "source": [
    "We have been able to get the minimum eigenvalue correctly here as well. \n",
    "\n",
    "As an exercise try finding the minimum and maximum eigenvalues of the following operator.\n",
    "\n",
    "$$ L = 2XX + 6IZ $$\n",
    "\n",
    "Use a variational form comprising of $R_y$, $R_z$ and `CX` gates."
   ]
  },
  {
   "cell_type": "markdown",
   "id": "653962a4-9da0-4433-a029-696223beab47",
   "metadata": {},
   "source": [
    "### Solution to the above problem"
   ]
  },
  {
   "cell_type": "code",
   "execution_count": 13,
   "id": "a692c357-39da-4eae-be9f-9b08d68c3f16",
   "metadata": {
    "collapsed": true,
    "jupyter": {
     "outputs_hidden": true
    }
   },
   "outputs": [
    {
     "name": "stdout",
     "output_type": "stream",
     "text": [
      "[ 6.32455532 -6.32455532  6.32455532 -6.32455532]\n"
     ]
    }
   ],
   "source": [
    "### Eigenvalues of L #####\n",
    "X = np.array([[0, 1],[1, 0]])\n",
    "Z = np.array([[1, 0],[0, -1]])\n",
    "I = np.array([[1, 0],[0, 1]])\n",
    "\n",
    "L = 2*np.kron(X,X) + 6*np.kron(I,Z)\n",
    "print(np.linalg.eig(L)[0])"
   ]
  },
  {
   "cell_type": "code",
   "execution_count": 14,
   "id": "08d44615-ea1a-4264-ac00-282617b1a596",
   "metadata": {
    "collapsed": true,
    "jupyter": {
     "outputs_hidden": true
    }
   },
   "outputs": [],
   "source": [
    "def var_form_ryrz(params, depth):\n",
    "    var_circ = QuantumCircuit(2)\n",
    "    var_circ.ry(params[0], 0)\n",
    "    var_circ.rz(params[1], 0)\n",
    "    var_circ.ry(params[2], 1)\n",
    "    var_circ.rz(params[3], 1)    \n",
    "           \n",
    "    for jj in range(depth):\n",
    "        var_circ.cx(0, 1)\n",
    "        var_circ.ry(params[0], 0)\n",
    "        var_circ.rz(params[1], 0)\n",
    "        var_circ.ry(params[2], 1)\n",
    "        var_circ.rz(params[3], 1) \n",
    "            \n",
    "    return var_circ  "
   ]
  },
  {
   "cell_type": "code",
   "execution_count": 20,
   "id": "529c4719-d96c-495d-b832-180c644ac7e0",
   "metadata": {
    "collapsed": true,
    "jupyter": {
     "outputs_hidden": true
    }
   },
   "outputs": [
    {
     "name": "stdout",
     "output_type": "stream",
     "text": [
      "{   'fun': -6.158799999999999,\n",
      "    'jac': None,\n",
      "    'nfev': 56,\n",
      "    'nit': None,\n",
      "    'njev': None,\n",
      "    'x': array([ 1.30394481, -0.0602682 ,  0.94716791, -0.03718907])}\n"
     ]
    }
   ],
   "source": [
    "## Simulator\n",
    "def expectation_function3(params, num_shots = 10000):\n",
    "    var_circ = var_form_ryrz(params, 2)\n",
    "    \n",
    "    #### XX measurement #####\n",
    "    Xmeas = var_circ.copy()\n",
    "    ## Write your code here\n",
    "\n",
    "\n",
    "    \n",
    "    result = sampler_sim.run(Xmeas).result()\n",
    "    counts = result.quasi_dists[0]\n",
    "    \n",
    "    list_bin = [0,1,2,3]\n",
    "    for jj in list_bin:\n",
    "        if jj not in counts:\n",
    "            counts[jj] = 0\n",
    "\n",
    "    # xx = \n",
    "    \n",
    "    #### IZ measurement #####\n",
    "    IZmeas = var_circ.copy()\n",
    "    ## Write your code here\n",
    "    \n",
    "    \n",
    "    for jj in list_bin:\n",
    "        if jj not in counts:\n",
    "            counts[jj] = 0\n",
    "            \n",
    "    # iz = \n",
    "    \n",
    "    cost = 2*xx + 6*iz\n",
    "    return cost\n",
    "\n",
    "optimizer = COBYLA(maxiter=100, tol=0.0001)\n",
    "params = np.random.rand(4)\n",
    "ret = optimizer.minimize(expectation_function3, params)\n",
    "print(ret)"
   ]
  },
  {
   "cell_type": "markdown",
   "id": "4ae80c0d-8706-42d2-b325-d115a4cbebd7",
   "metadata": {},
   "source": [
    "### Another problem"
   ]
  },
  {
   "cell_type": "markdown",
   "id": "2e788f65-5703-478e-8e08-cf2b129a61f1",
   "metadata": {},
   "source": [
    "$$ L = 2XI + 6IY $$\n",
    "\n",
    "Remember $Y = R_z(\\pi/2)HZHR_z'(\\pi/2)$"
   ]
  },
  {
   "cell_type": "code",
   "execution_count": 10,
   "id": "b2b40648-56af-4f88-9f37-6e9f35ed5c37",
   "metadata": {
    "collapsed": true,
    "jupyter": {
     "outputs_hidden": true
    }
   },
   "outputs": [
    {
     "name": "stdout",
     "output_type": "stream",
     "text": [
      "[ 8.  4. -8. -4.]\n",
      "[ 8.  4. -8. -4.]\n"
     ]
    }
   ],
   "source": [
    "### Eigenvalues of L #####\n",
    "X = np.array([[0, 1],[1, 0]])\n",
    "Y = 1j*np.array([[0, -1],[1, 0]])\n",
    "I = np.array([[1, 0],[0, 1]])\n",
    "\n",
    "L1 = 2*np.kron(X,I) + 6*np.kron(I,Y)\n",
    "print(np.real(np.linalg.eig(L1)[0]))\n",
    "\n",
    "L2 = 2*np.kron(I,X) + 6*np.kron(Y,I)\n",
    "print(np.real(np.linalg.eig(L2)[0]))"
   ]
  },
  {
   "cell_type": "code",
   "execution_count": 33,
   "id": "2beba427-1399-4e8b-8b16-e8d642fc1652",
   "metadata": {
    "collapsed": true,
    "jupyter": {
     "outputs_hidden": true
    }
   },
   "outputs": [
    {
     "data": {
      "image/png": "[encoded data removed]",
      "text/plain": [
       "<Figure size 1123.41x284.278 with 1 Axes>"
      ]
     },
     "execution_count": 33,
     "metadata": {},
     "output_type": "execute_result"
    }
   ],
   "source": [
    "def var_form_ryrz(params, depth):\n",
    "    var_circ = QuantumCircuit(2,3)\n",
    "    var_circ.ry(params[0], 0)\n",
    "    var_circ.rz(params[1], 0)\n",
    "    var_circ.ry(params[2], 1)\n",
    "    var_circ.rz(params[3], 1)    \n",
    "           \n",
    "    for jj in range(depth):\n",
    "        var_circ.cx(0, 1)\n",
    "        var_circ.ry(params[4], 0)\n",
    "        var_circ.rz(params[5], 0)\n",
    "        var_circ.ry(params[6], 1)\n",
    "        var_circ.rz(params[7], 1) \n",
    "            \n",
    "    return var_circ  "
   ]
  },
  {
   "cell_type": "code",
   "execution_count": 16,
   "id": "ec17d269-3e73-45dd-b4b7-d5be9806be03",
   "metadata": {
    "collapsed": true,
    "jupyter": {
     "outputs_hidden": true
    }
   },
   "outputs": [],
   "source": [
    "from qiskit.result import marginal_counts\n",
    "def expectation_function4(params, num_shots = 10000):\n",
    "    depth = 1\n",
    "    var_circ = var_form_ryrz(params, depth)\n",
    "    \n",
    "    #### XI measurement #####\n",
    "    XI_IY_meas = var_circ.copy()\n",
    "    ## Write your code here\n",
    "    \n",
    "    XI_IY_meas.measure([0,1],[0,1])\n",
    "    XI_IY_meas.barrier([0,1])\n",
    "    \n",
    "    #### IY measurement #####\n",
    "    ## Write your code here\n",
    "    \n",
    "    XI_IY_meas.measure([0],[2])\n",
    "    \n",
    "    result = sampler_sim.run(XI_IY_meas).result()\n",
    "    bin_num: dict[str, int] = {}\n",
    "    for key, val in result.quasi_dists[0].items():\n",
    "        bin_num[str(bin(key)[2:].zfill(3))] = int(val*num_shots)\n",
    "    \n",
    "    counts1 = marginal_counts(bin_num, indices=[0,1])\n",
    "    counts2 = marginal_counts(bin_num, indices=[2,1])\n",
    "        \n",
    "    list_bin = ['00','01','10','11']\n",
    "    for jj in list_bin:\n",
    "        if jj not in counts1:\n",
    "            counts1[jj] = 0\n",
    "            \n",
    "    total_counts = counts1['00'] + counts1['11'] + counts1['10'] + counts1['01']\n",
    "    xi = counts1['00'] - counts1['11'] - counts1['10'] + counts1['01'] \n",
    "    xi = xi / total_counts\n",
    "    \n",
    "    list_bin = ['00','01','10','11']\n",
    "    for jj in list_bin:\n",
    "        if jj not in counts2:\n",
    "            counts2[jj] = 0\n",
    "    \n",
    "    total_counts = counts2['00'] + counts2['11'] + counts2['10'] + counts2['01']\n",
    "    iy = counts2['00'] - counts2['11'] + counts2['10'] - counts2['01'] \n",
    "    iy = iy / total_counts \n",
    "    \n",
    "    cost = 2*xi + 6*iy\n",
    "    return cost"
   ]
  },
  {
   "cell_type": "code",
   "execution_count": 17,
   "id": "e4ed80f1-0612-4a31-97b1-62919791501a",
   "metadata": {
    "collapsed": true,
    "jupyter": {
     "outputs_hidden": true
    }
   },
   "outputs": [
    {
     "name": "stdout",
     "output_type": "stream",
     "text": [
      "{   'fun': -7.9952,\n",
      "    'jac': None,\n",
      "    'nfev': 100,\n",
      "    'nit': None,\n",
      "    'njev': None,\n",
      "    'x': array([ 3.13520127, -0.25156425, -1.09097632,  1.36895388,  2.22934404,\n",
      "        1.53385498,  1.26136407,  1.09537997])}\n",
      "-7.9904\n"
     ]
    }
   ],
   "source": [
    "optimizer = COBYLA(maxiter=100, tol=0.0001)\n",
    "params = np.random.rand(8)\n",
    "## Write your code here\n",
    "\n",
    "print(exp)"
   ]
  },
  {
   "cell_type": "markdown",
   "id": "6ced08cc-a279-4554-abd5-83fa6df1c7f6",
   "metadata": {},
   "source": [
    "## USing Estimator primitive"
   ]
  },
  {
   "cell_type": "code",
   "execution_count": 30,
   "id": "2cebe5ac-820c-49cc-9b2d-f4568bee573a",
   "metadata": {
    "collapsed": true,
    "jupyter": {
     "outputs_hidden": true
    }
   },
   "outputs": [
    {
     "data": {
      "image/png": "[encoded data removed]",
      "text/plain": [
       "<Figure size 1727.32x2290.94 with 1 Axes>"
      ]
     },
     "execution_count": 30,
     "metadata": {},
     "output_type": "execute_result"
    }
   ],
   "source": [
    "from qiskit.quantum_info import SparsePauliOp\n",
    "from qiskit.circuit.library import RealAmplitudes, EfficientSU2\n",
    "from qiskit.circuit.library import TwoLocal\n",
    "\n",
    "observable = SparsePauliOp.from_list([(\"XI\", 2), (\"IY\", 6)])\n",
    "var_form = EfficientSU2(num_qubits= 2, reps=1)\n",
    "# var_form = TwoLocal(\n",
    "#     2,\n",
    "#     rotation_blocks=[\"rz\", \"ry\"],\n",
    "#     entanglement_blocks=\"cx\",\n",
    "#     entanglement=\"linear\",\n",
    "#     reps=1,\n",
    "# )\n",
    "pm = generate_preset_pass_manager(optimization_level=1, backend=backend)\n",
    "var_circ = QuantumCircuit(2)\n",
    "ansatz = var_circ.compose(var_form)\n",
    "ansatz_tr = pm.run(ansatz)\n",
    "observable_tr = observable.apply_layout(ansatz_tr.layout)\n",
    "ansatz_tr.decompose().draw('mpl')\n",
    "# print(observable_tr)"
   ]
  },
  {
   "cell_type": "code",
   "execution_count": 29,
   "id": "0ee19c4a-22d6-4391-bd85-51753a5dfcac",
   "metadata": {
    "collapsed": true,
    "jupyter": {
     "outputs_hidden": true
    }
   },
   "outputs": [
    {
     "name": "stdout",
     "output_type": "stream",
     "text": [
      " message: Optimization terminated successfully.\n",
      " success: True\n",
      "  status: 1\n",
      "     fun: -7.999999987627543\n",
      "       x: [ 3.142e+00 -4.406e-01 -9.025e-01  3.083e+00  1.571e+00\n",
      "            2.011e+00  1.571e+00  2.480e-02]\n",
      "    nfev: 152\n",
      "   maxcv: 0.0\n"
     ]
    }
   ],
   "source": [
    "from scipy.optimize import minimize\n",
    "from qiskit.primitives import StatevectorEstimator\n",
    "\n",
    "estimator = StatevectorEstimator()\n",
    "# estimator = Estimator(backend)\n",
    "def cost_func_vqe(parameters, ansatz, hamiltonian, estimator):\n",
    "\n",
    "    estimator_job = estimator.run([(ansatz, hamiltonian, [parameters])])\n",
    "    estimator_result = estimator_job.result()[0]\n",
    "\n",
    "    cost = estimator_result.data.evs[0]\n",
    "    return cost\n",
    "\n",
    "x0 = np.random.rand(8)\n",
    "result = minimize(cost_func_vqe, x0, args=(ansatz, observable, estimator), method=\"COBYLA\")\n",
    "print(result)"
   ]
  },
  {
   "cell_type": "code",
   "execution_count": null,
   "id": "f3fb492f-464b-4269-9cfd-352dacc6a8a4",
   "metadata": {
    "collapsed": true,
    "jupyter": {
     "outputs_hidden": true
    }
   },
   "outputs": [],
   "source": []
  }
 ],
 "metadata": {
  "kernelspec": {
   "display_name": "Python 3 (ipykernel)",
   "language": "python",
   "name": "python3"
  },
  "language_info": {
   "codemirror_mode": {
    "name": "ipython",
    "version": 3
   },
   "file_extension": ".py",
   "mimetype": "text/x-python",
   "name": "python",
   "nbconvert_exporter": "python",
   "pygments_lexer": "ipython3",
   "version": "3.12.4"
  }
 },
 "nbformat": 4,
 "nbformat_minor": 5
}
